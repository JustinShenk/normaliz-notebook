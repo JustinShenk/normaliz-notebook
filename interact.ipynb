{
 "cells": [
  {
   "cell_type": "markdown",
   "metadata": {},
   "source": [
    "## PyNormaliz\n",
    "\n",
    "Normaliz is a tool for computing the Hilbert bases and enumerative data of rational cones and, more generally, sets of lattice points in rational polyhedra.\n",
    "\n",
    "### Example 1: A cone in dimension 2\n",
    "\n",
    "We want to investigate the cone $C=\\mathbb{R}_{+}(2,1)+\\mathbb{R}_{+}(1,3)\\subset\\mathbb{R}^2$:\n",
    "\n",
    "This cone is defined in the input file 2cone.in:\n",
    "\n",
    "<pre>\n",
    "amb_space 2 \n",
    "cone 2\n",
    "1 3\n",
    "2 1\n",
    "</pre>\n",
    "\n",
    "The input tells Normaliz that the ambient space is R2, and then a cone with 2 generators is defined, namely the cone C from above.\n",
    "The figure indicates the Hilbert basis, and this is our first computation goal.\n",
    "If you prefer to consider the columns of a matrix as input vectors (or have got a matrix in this format from another system) you can use the input\n",
    "\n",
    "Calculate the Hilbert basis from finite vectors."
   ]
  },
  {
   "cell_type": "code",
   "execution_count": 2,
   "metadata": {
    "collapsed": false
   },
   "outputs": [
    {
     "name": "stdout",
     "output_type": "stream",
     "text": [
      "theta 0.63832\n",
      "ratio 1.34782554619\n",
      "integers 31/23\n",
      "new vector [[31, 23], [1, 4]]\n"
     ]
    },
    {
     "data": {

      "image/png": "iVBORw0KGgoAAAANSUhEUgAAAfcAAAFkCAYAAAA9h3LKAAAABHNCSVQICAgIfAhkiAAAAAlwSFlz\nAAAPYQAAD2EBqD+naQAAIABJREFUeJzt3X+MZtV93/H3F9hd/1qzNhvbi02M8Rp7MdjgxeDwZ62o\nDbiOrFZEaqR23Eayq1a4/sdNq1hVA6qiVPmxkUsxal3cNCVNZEdsF9pGbSK1KjU/1+AlUG/NxF4D\nxsZ41/gHMCynf5w7zDw7v+e5z733nPt+SaPR8jy7cz6cnf3Oufd874mUEpIkqR5n9T0ASZLULou7\nJEmVsbhLklQZi7skSZWxuEuSVBmLuyRJlbG4S5JUGYu7JEmVsbhLklQZi7skSZWxuEuSVBmLuyRJ\nlbG4S5JUGYu7JEmVsbhLklQZi7t6FRGHIuKpiDin77FIUi0s7upNROwEfhn4/ZTSS32PR5JqYXFX\nn64DzgO+2PdAJKkmkVLqewwaqYi4A9iXUrqq77FIUk1cuasXEfFm8sr9tp6HIknVsbirL38LOA38\nYd8DkaTaeFlenYuIAB4CHkspXd/3eCSpNq7c1YfLgcvwkrwkzYTFXX2YA74D/GnP45CkKlnc1Sl7\n2yVp9izu6pq97ZI0Y26oU6fsbZek2XPlrs7Y2y5J3bC4q0v2tktSB7wsr07Y2y5J3XHlrq7Y2y5J\nHbG4qytz2NsuSZ2wuGvm7G2XpG5Z3NUFe9slqUNuqNPM2dsuSd1y5a6Zsrddkrpncdes2dsuSR3z\nsrxmxt52SeqHK3fNkr3tktQDi7tmaQ572yWpcxZ3zYS97ZLUH4u7ZsXedknqiRvqNBP2tktSf1y5\nq3X2tktSvyzumgV72yWpR16WV6vsbZek/rlyV9vsbZeknlVX3JuVY3UKyjXHFnvbC8q2ZWYrT625\nwGxjUkVxj4jdEXEoIuaBExEx3/x6d99jm0ZpubbS215atq0wW3lqzQVmG6vi77k3k3g3cAmTP6yc\nBh4FrkkpPdfH2KZRYq6I+BjwZeDSlNIj67yvuGybZbbystWaC8xWarY21LByv4mVkwtwNnAAuLHz\nEbWjxFxzwH3rFfZGidk2y2zlqTUXmG20ali5zwMXrvOW+ZTSRR0NpzWl5Wp6258Abkgp3bzBe4vK\nthVmKy9brbnAbKVma0PRK/dmA8WODd62s7SNFoXm2lRve6HZNsVs5WWrNReYjUKztaXo4p7yZYeF\nDd62kAq7PFFaruYb6OPAHSmlZ9d7b2nZtsJs5WWrNReYjUKztaXo4t44TF4xruY0cEeHY2lTSbm2\n2tteUratMlt5as0FZhutGu65L+6YPEDeSLGo6B2TJeWKiEPA9cAFmznetaRsW2W28rLVmgvMVmq2\nNhS/cm8m7xrgc8A8eVPXfPPrYie3lFxb6W1fVEq27TBbeWrNBWbrcXi9K37lfqaIiBrvsww112Z7\n2zf4MwaZrQ1mK0+tucBsY1JdcVe3wnPbJWlwir8sr/6E57ZL0iBZ3DUNz22XpAHysry2pelt99x2\nSRogV+7aLs9tl6SBsrhru+bY4rntkqRuWNy1ZdvpbZckdcfiru24DjgP+GLfA5EkreSGOm2Zve2S\nNGyu3LUl9rZL0vBZ3LVV9rZL0sB5WV6bZm+7JJXBlbu2wt52SSqAxV1bMYe97ZI0eBZ3bYq97ZJU\nDou7NsvedkkqhBvqtCn2tktSOVy5a0P2tktSWSzu2gx72yWpIF6W17rsbZek8rhy10bsbZekwljc\ntZE57G2XpKJY3LUme9slqUwWd63H3nZJKpAb6rQme9slqUzVrdyb3d3V6TpXl73ttc4ZmK1EteYC\ns41JFcU9InZHxKGImAdORMR88+vdfY9tGj3nmmlve61zBmYrUa25wGxjVfxl+WYS7wYuYfKHldPA\no8A1KaXn+hjbNPrMNeve9lrnDMxWYrZac4HZSs3WhhpW7jexcnIBzgYOADd2PqJ29Jlr1r3ttc4Z\nmK1EteYCs41WDSv3eeDCdd4yn1K6qKPhtKbPXBFxCLgeuGAWLXC1zhmYrcRsteYCs5WarQ1Fr9yb\ny8c7NnjbztI2WvSZa9a97bXOGZiNArPVmgvMRqHZ2lJ0cU/5ssPCBm9bSIVdnug510x722udMzAb\nBWarNReYjUKztaXo4t44TN5AsZrTwB0djqVNfeWaA+5LKT0yoz8f6p0zMFuJas0FZhutGu65L+6Y\nPEDeSLGo6B2TfeRqetufAG5IKd3c5p99xtepcs7AbCVmqzUXmK3UbG0ofuXeTN41wOeAeXJxmm9+\nXezk9pSrk3Pba50zMFuPw9u2WnOB2XocXu+KX7mfKSKixvsss8416972jb52jXMGZitRrbnAbGNS\n/Mr9TLVObge5eju3vdY5A7OVqNZcYLYxqa64a9vm8Nx2SaqCxV2e2y5JlbG4Czy3XZKqUt2GOm1d\neG67JFXFlfvIRYfntkuSumFxVye97ZKk7nhZfsT67G2XJM2OK/dx6623XZI0Oxb3cZvD3nZJqo7F\nfaTsbZekelncx8vedkmqlBvqRsredkmqlyv3EbK3XZLqZnEfJ3vbJaliXpYfGXvbJal+rtzHx952\nSaqcxX185rC3XZKqZnEfEXvbJWkcLO7jYm+7JI2AG+pGxN52SRoHV+4jYW+7JI2HxX087G2XpJHw\nsvwI2NsuSePiyn0c7G2XpBGxuI/DHPa2S9JoVFfcm0vQ1dlurhJ622udMzBbiWrNBWYbkyqKe0Ts\njohDETEPnIiI+ebXu/se2zRayjXI3vZa5wzMVqJac4HZxqr4DXXNJN4NXMLkDyungUeBa1JKz/Ux\ntmm0lWuIve21zhmYrcRsteYCs5WarQ01rNxvYuXkApwNHABu7HxE7Zg614B722udMzBbiWrNBWYb\nrRpW7vPAheu8ZT6ldFFHw2lNG7ki4tPAb5BX7s+2OLyp1DpnYLYSs9WaC8xWarY2FL1ybzZQ7Njg\nbTtL22jRRq7mtY8DdwyssFc5Z2A2CsxWay4wG4Vma0vRxT3lyw4LG7xtIRV2eaKlXIPsba91zsBs\nFJit1lxgNgrN1paii3vjMHkDxWpOA3d0OJY2TZtrjuH2ttc6Z2C2EtWaC8w2WjXcc1/cMXmAvJFi\nUdE7JqfJ1fS2Pwl8IaX0mVmPdatqnTMwW4nZas0FZis1WxuKX7k3k3cN8DlgHnii+fw5Cp7cKXMN\nsrd9Ua1zBmbrcXjbVmsuMFuPw+td8Sv3M0VE1HifZSu5htjbvp5a5wzMVqJac4HZxqT4lfuZap3c\nLRT2ofa2r6nWOQOzlajWXGC2MamuuMtz2yVp7Kq7LD9mTU+n57ZL0si5cq/LIHvbJUndsrjXZY7h\n9rZLkjpica9EFHBuuySpGxb3egy6t12S1B031FWitN52SdLsuHKvQIm97ZKk2bG418HedknSK7ws\nXzh72yVJZ3LlXj572yVJEyzu5ZvD3nZJ0jIW94LZ2y5JWo3FvWz2tkuSVnBDXcHsbZckrcaVe6Hs\nbZckrcXiXi572yVJq/KyfIHsbZckrceVe5nsbZckrcniXqY57G2XJK3B4l4Ye9slSRuxuJfH3nZJ\n0rrcUFcYe9slSRtx5V4Qe9slSZtRXXFv2sSq0+Sqsre91jkDs5Wo1lxgtjGporhHxO6IOBQR88CJ\niJhvfr2777FNIyL27Y04uj9i4SAsvBN++w3wE2BX32ObVq1zBmYrUa25wGxjVfw992YS7wYuYfKH\nldPAo8A1KaXn+hjbNCJi3/kwfyvsuhYIIAF3Ap+AF56Ed6SUnup3lNtT65yB2UrMVmsuMFup2dpQ\nw8r9JlZOLsDZwAHgxs5H1ILz4K5bYdd15MJO8/kjwC2way/c1d/oplblnDXMVp5ac4HZRquGlfs8\ncOE6b5lPKV3U0XBasz9i4Tics9pNpARcDC8dT2lH1+NqQ61zBmYrMVutucBspWZrQ9Er92YDxUYF\nbmdpGy0iIvbAmoMO4Nz8tqJyQb1zBmajwGy15gKzUWi2thRd3FO+7LCwwdsWUmGXJ1JK6SSsOegE\nnMxvKyoX1DtnYDYKzFZrLjAbhWZrS9HFvXGYvIFiNaeBOzocS2tOwrE713jtCHAKjnU5npZVOWcN\ns5Wn1lxgttGq4Z774o7JA+SNFIuK3jG5uFv+Ftj1EZZ2yx8BPlnPbvmq5gzMVmK2WnOB2UrN1obi\nizu8Msk3Ah8FdgIvkn+q+2zJkxsR+/bAN86DV+2Bl09BOgnHnoFrSy3si2qdMzBbiWrNBWYbqyqK\n+3IREbXcZ4mIK4AHyY+c/S+15DpTTXN2JrOVp9ZcYLYxqeGe+4TKJneO5tz2ynJNMFuZas1Way4w\n25hUV9xrEZ7bLknaJov7cHluuyRpW6q7516L8Nx2SdI2uXIfoPDcdknSFCzuw1Tlue2SpG54WX5g\nmmchPwQ8llK6vu/xSJLK48p9eC4HLsNL8pKkbbK4D88cTW97z+OQJBXK4j4g9rZLktpgcR8We9sl\nSVNzQ92A2NsuSWqDK/eBsLddktQWi/tw2NsuSWqFl+UHwN52SVKbXLkPg73tkqTWWNyHYQ572yVJ\nLbG498zedklS2yzu/bO3XZLUKjfU9czedklS21y598jedknSLFjc+2VvuySpdV6W74m97ZKkWXHl\n3h972yVJM2Fx788c9rZLkmbA4t4De9slSbNUXXFv7mUP3ZZ72wvJtS1mK1Ot2WrNBWYbkyqKe0Ts\njohDETEPnIiI+ebXu/se2xrmgPtSSo+s96aI2Lc34uj+iIWDsLA/YmFvxNGI2NfNMGenwDnbNLOV\np9ZcYLaxKn63fDOJdwOXMPnDymngUeCalNJzfYxtNU1v+xPADSmlm9d5377zYf5W2HUtEEAC7gQ+\nAS88Ce9IKT3VzajbVdqcbYXZystWay4wW6nZ2lDDyv0mVk4uwNnAAeDGzke0vk31tp8Hd90Ku64j\nF3aazx8BboFde+Gu2Q5zpkqbs60wW3lqzQVmG60aVu7zwIXrvGU+pXRRR8NZ11Z62/dHLByHc1a7\niZSAi+Gl4yntmMU4Z62kOdsqs5WXrdZcYLZSs7Wh6JV7Uyw3KnA7B7TRYlO97RERe2DNQQdwbn7b\nUHJtWoFztmlmKy9brbnAbBSarS1FF/eULzssbPC2hTScyxNzbKK3PaWUTsKag07Ayfy2oeTatALn\nbNPMVl62WnOB2Sg0W1uKLu6Nw+R72Ks5DdzR4VjWtNXe9pNw7M41XjsCnIJjbY6vY0XM2TaZrTy1\n5gKzjVYN99wXd0weIG+kWDSoHZMR8THgy8ClG7XANe/fdz7M3wK7PsLSbvkjwCfr2S0/6DnbDrOV\nl63WXGC2UrO1ofjiDq9M8o3AR4GdwIvkn+o+O5TJ3c657RGxby/ctQcuPRfiFKSTcOwZuLbUwr6o\nhDnbLrOVp9ZcYLaxqqK4LxcRMbT7LJvtbd/gzxhcrraYrUy1Zqs1F5htTGq45z5hoJM79bntA83V\nCrOVqdZsteYCs41JdSv3odlKb7skSW2obuU+QJ7bLknqlMV99ubw3HZJUocs7jO01d52SZLaYHGf\nrS2f2y5J0rTcUDdD2+ltlyRpWq7cZ6Tpbb8ON9JJkrYhIs7f7u89p82BaMLUve2SpHGIiNcAHwA+\nBFzdfH4b+enjW2Zxn4Gmt/3jwB0ppWf7Ho8kaTgi4izgXSwV8quB95Ofkf9T4D7gduCebX8N77m3\nLyKuAB4Erksp3dX3eCRJ/YmI84CrmCzme5qXHwO+Qi7kXwGOtdFdZXGfgYg4BFwPXGALnCSNR9MC\n/T4mC/m7mpe/z1Ihvwe4N6V0cibjsLi3q5nYJ4EvpJQ+0/d4JEmz0dyC/VmW7pFfDRwEdgELwFeZ\nXJU/3tUz8L3n3j572yWpQs0Rs1cyWczf0rz8l+QC/sfkYn40pfR8D8MEXLm3zt52SSpfRJwNHGCy\nkL+X3EL+HHnT2yuX2FNKT/c01FW5cm/Rst72G/oeiyRp85p/vxfvkX8I+CCwG3gZeIRcyA+Ri/mj\nKaXTPQ11Uyzu7bK3XZIGLiJeBVzB5Kr8wublp8mF/F+QC/n9KaXnehjmVLws3xLPbZek4Wn+bb6I\nyYfDXA7sAF4AHmBpw9s9wLe62vQ2S67c27N4bvuv9j0QSRqriNhD7ilfLORXAXubl4+TC/gXm88P\np5Re7GOcs+bKvSX2tktStyLiHOBSJlfl72lePslSP/lXyD3l3+9jnH2wuLfA3nZJmr2IeCuT98mv\nBF5D3uv0EJOX14+nlF7uaai9s7i3ICI+BnwZuDSl9Ejf45Gk0jUHqRxkclX+1ublbzP5cJgHU0o/\n6WOcQ2Vxb4G97ZK0fc1BKhczuSp/H/kglZ+Qe8pfWZWnlJ7saajFcEPdlOxtl6StaQ5SWV7Ir2Lp\nIJVHyUX8883nR9zHtHUW9+nZ2y5Ja2j2JL2fyWK+v3n5GfKK/Leaz/fN6iCVsanusnxERFc9il32\ntneZq2tmK1Ot2WrNBbPP1vyb+HYmC/kHWDpI5SiT98rn2xpPzfO2HWf1PYA2RMTuiDgUEfPAiYiY\nb369e8ZferG3/bZZ/OERsW9vxNH9EQsHYWF/xMLeiKMRsW8WX69LPc7ZzJmtPLXmgtlma/7svxIR\n/6TZe/QUME++kvmLwDeBfwz8HPD6lNLVKaVPpZT+Y0pp6hPSap63aRW/cm8m8W7gEiZ/WDlNvndz\nzaweHTjL3vaI2Hc+zN8Ku64FAkjAncAn4IUn4R0ppafa/Jpd6XPOZs1s5WWrNRe0m605SOUSVh6k\nEuSDVO5l8iCV77YUY63xVDtvrUgpFf1BfpD/aXLtO/PjJeB3Z/R1d5LvF/3mLP788+DoEUhplY/D\nkPbm4wR7//9f0pyZzWxjyjVtNvJRpr9Ifsb6n5ELeGKpp/xW4O+SC/zZJWUbw0cNK/d5lh74v5r5\nlNJFM/i6M+1t3x+xcBzOiVVeS8DF8NLxlHa0/XW70NecdcFs5WWrNRdsPltzkMoHmDwV7e3Ne75D\nXpEvrsrvTyn9aGaD3qSa560NRe+WbzZvbFTgds5oo8UceWdn64U9IuIgxGqFHfI1sHPz24rbQNLz\nnM2U2crLVmsu2HS2N0XEfeTd7DuA58kHqXyJpWJ+YmjZa563thRd3FNKKSIWNnjbQtuTO+ve9pRS\n2h+RErmQr3gdOJnfVtxf2r7mrAtmKy9brblg09l2ku9P30Yu5g+nlDb6Pb2red7aUsNu+cPk+y6r\nOQ3cMYOvOfPe9pNw7M41XjsCnIJjs/raHehjzrpitvJUkysizomIKyLi70fEbcC567z9NHBzSulv\np5T+VUrpgRIK+zLVzNss1HDPfXHH5AHyowoXzWTHZHM5aOa97Yu75W+BXR9habf8EeCT9eyW72TO\numS28rKVnCsi3sbSzvXFg1ReTd5Q9hDwIPALwD4Ky7aRkuetC8UXd3hlkm8EPkq+zPQi+ae6z7Y9\nuRFxBfkb5rqU0l1t/tmrfK19e+GuPXDpuRCnIJ2EY8/AtaUW9kVdzlnXzFaeEnJFxGtZeZDK+c3L\nJ1h5kMpPm983+GzbVXO2aVVR3Jeb9QaKWfa2b/B1q90YYrYy1ZptCLkiH6TybiZ7yi8jr1B/zNJB\nKos95Zs6SGUI2Wal5mzbUV1xn6Xw3HZJMxARe1l5kMq55LtxiwepLK7K/6LLhYXKVPRu+R5cB5wH\nfLHvgUgqU7NIuJzJYv7O5uXvkYv4v2TpIJVTfYxTZXPlvgXhue2StqDZgHshk4X8CvJBKi8yeZDK\nPbR4kIrGzZX7Js26t11S+SLi9cAHmSzmb2pefpxcwG9vPn81pfRCH+NU/Szum+e57ZJe0Ryk8l4m\nH9l6Cblz9Yfkg1RuZWnT2/d6GqpGyMvym9BVb7uk4Yp81PLyQn4l8DrgZeBrLG14u4f8b8XLPQ1V\nsrhvRpe97ZL6FxGvZuVBKj/bvPwUkwepPDCEg1Sk5bwsvzlz5JOR/rTncUhqWXNlbj+TD4d5P/nf\nx+eB+4E/ZqmYf9tNbxo6i/sGmraVXyb3tttbKhUuIt5A7iNf/tjWNzYvf51cxL/QfP5aYc9blwCL\n+2bY2y4VKiJ2kJ/stryQv7t5+QfkAv57zef7UkrP9jFOqW3ec9+Ave1SGZrL629jsg3tIJMHqSx/\n0tv/8/K6auXKfR32tkvD1RykciWTq/LFg1S+RS7gf9J8Prp4kIo0Bhb39dnbLg1Ac5DKe1h5kMpZ\nLB2k8u9Z6ikv+tREaVpell+Dve1SfyLiZ1h5kMrryQep/AUrD1I53dNQpUGyuK/B3napGxGxi5UH\nqVzUvPxdJh8Oc19K6Yd9jFMqiZfl1zaHve1Sq5YdpLK8p/wKYCf5IJUHgcMsFfRvuulN2jqL+yrs\nbZfaERHnsvIglZ9pXv4GuYj/QfP5IQ9SkdphcV+dve3SFi07SGX5qvwA+SCVU+SDVD5PXpHf60Eq\n0ux4z30V9rZLG2sOUlleyK8EXks+SOVhJu+V/18PUpG6Y3E/Q9Pb/gRwQ0rp5r7HIw3BsoNUlhfz\nC5qXn2Ry9/oDKaUf9zFOSZmX5Veyt12j1mx6exeThfx95H8vfko+SOU/0RT0lNK3exqqpDW4cl/G\n3naNUUS8kZUHqbyhefkxmgfDkIv5MQ9SkYbP4r6Mve2qXXOQyvuYXJW/q3n5WSYvr9+XUvpBH+OU\nNB2L+zIRcQi4HrjAFjiVrrkSdQErD1J5Ffkgla8yWcy/YU+5VAfvuTfsbVfpIuJ15B3ry4v5vubl\nb5IL+JfIxdyDVKSKWdyX2NuuYjQHqRxgspBfSj5I5Ufkg1RuY+kgle/0M1JJfajusnxExHYuLQ69\nt327uUpgtk39OW9iabPbh8hPfVs8SOURJnvKOzlIpdZ5qzUXmG1Mzup7AG2IiN0RcSgi5oETETHf\n/Hr3Jn//4rntt81ynFsVEfv2RhzdH7FwEBb2RyzsjTjaPDykaGZb9/fviogPRcSnIuL2iHgceJr8\nzPVfIR9x+hvAh4E9KaXLUkq/klL6Nymlr82ysE/7vTZUteYCs41WSqnoD2A38DVyb3pa9vFS8993\nb+LP+DTwAvDGvvMsG9O+8+H5I5BehpSaz/8Z0vnwPPkqQ+/jNNt02ciPZn0n+fkKh8gr7xeav8PP\nA3cDvwP8EvnAlegx29Tfa0P8qDWX2crN1sr/n74H0MIEH1plcpdP8u9u8PuD/KjMP+o7y/KP8+Do\nkaY4nPlxGNLevCGq93GabWvZzsvPUfh54NeAI8D3lv19PQ78B+Afki+77+w7z/KPab/XhvpRay6z\nlZutjY/i77k3l2MuXOct8ymli9Z6cai97fsjFo7DObHKawm4GF46ntKOrsfVhjFnexf5KDTyQSrL\nHw5zb0rpmY6GuS3Tfq8NVa25wGylZmtD0bvlmz7ejYrAzg02WswxsHPbIyIOQqxWICBfajg3v624\nDSSVZzv/IJy1XrY9+VCV9wJfTwUdpNLS99rg1JoLzEah2dpSdHFPKaWI2OhRmAtrTe5Qe9tTSml/\nRErkgrDideBkfltxf2lryRYRr2HlQSpv+wE5wzrZXk4pPdbZQFsy7ffaUNWaC8xGodnaUsNu+cPk\n+y6rOQ3csc7vHWxv+0k4ducarx0BTsGxLsfTptKyRcRZEfHuiPg7EXFzRDwA/BD4X8CvA28Cbgf+\n5il4pKRsWzTN99qQ1ZoLzDZefd/0n/aDpR2TL7HFHZPkyb+37wxrjG3f+fD84TN2XR+uaEf5ULOR\nf+D7BeCfA/8V+MGyv1ePAv8O+CRwOXBOSdmm/P+y7e+1IX/Umsts5WZr46P4DXWQex2BG4GPAjuB\nF8k/1X02pfTcGr9n8Oe2R8S+vXDXHrj0XIhTkE7CsWfg2pTSU32PbxpDydbcmll+kMrVLB2k8n2W\nHgxzD/kHwZOb+DMHkW0WtvO9VoJac4HZxqqK4r7cZjdQRMSnyQ8C2ZdSenb2I5tOzRtDusrWbML5\nWVYepLILWGDlQSqPTzsu5608teYCs41JdcV9M5p/5D23vXLNT/VnHqTylublv2Tyka1HU0rP9zBM\nSWpd0bvlp3A5cBnwq30PRO2IiLNZeZDKe8mbRp8jH6TyBZYOUnm6p6FK0syNdeXuue2Fa/ZMnHmQ\nym7yhppjTK7KH00dHKQiSUMxuuLebKB6ktzb/pm+x6ONRcSrgCuYXJVf2Lz8NLmILxby+8e+kUaS\nxnhZfrC97XplP8RFTD4c5nLy06heAB4A/oSlYv4tN9FI0qQxrtwHfW772ETEHuAqlgr5VcDe5uXj\nTF5efzil9GIf45Skkoxq5b7s3PYb+h7LGEXEOcClTK7K39O8fJJcwG9m6SCV7/cxTkkq3aiKO/nM\n7NPAH/Y9kDGIiLcyWcgPAq8hz8HDwJ+TnzXwFeB4KuggFUkastFclre3fbaag1QOMlnM39q8/G0m\nHw7zYErpJ32MU5LGYEwrd3vbWxIRZwEXM7l7/X3A2cBPgPuBP2Cpp/yJnoYqSaM0puI+x8DObS9F\nRJzHZCG/CtjTvPwoeTX++ebzIz47QJL6NYrL8va2b17z/+r9TBbz/c3LzzC5e/2+zRykIknq1lhW\n7va2r6LZh/B2Jgv5B1g6SOUocBdLBX3ennJJGr6xrNztbeeVg1Q+yGQxf3Pz8jyTq/KvepCKJJWp\n+pX7WHvbm4NULmHlQSpBPkjlXuDf0hTzlNJ3exqqJKll1Rd3RtLbHhFvYeVBKq8DXiYfpPJ/gN8h\nr8of8yAVSapX1Zfla+1tbw5S+QCTq/K3Ny9/h8me8vtTSj/qY5ySpH7UvnIvvre9+QHlnUw+HOb9\n5INUnicfpPIllgr6CTe9SdK41V7c5yistz0i3sDSQSqLH+c1L3+dXMBvIxfzh1NKCz0MU5I0YNVe\nli+ht705SOUyJlfl725e/gHNE95YOkjl2T7GKUkqS83F/WPAl4FLU0qP9D0egIh4G0uF/GrgSuDV\nwEvkg1SW3ys/7uV1SdJ21Fzce+1tj4jXsvIglfObl0+wVMjvwYNUJEktqvKee9e97c1BKu9mclV+\nGfkglR9aILElAAAD3ElEQVSTD1L5fZYOUnmyi3FJksapyuLOjHvbI2IvKw9SORdILB2k8q/JxdyD\nVCRJnarusnzbve3NxrzLmSzm72xe/h4rD1I5Ne3XlCRpGjWu3Lfd2978YHAhk4X8CvJBKi+SD1I5\nwtK98s4OUomIqHWDndnKVGu2WnOB2cbkrL4H0IaI2B0RhyJiHvif5Evyf605KGW93/f6iPhwRPzT\niDhM7ol/HLgd+Ovkw1Q+Qy70r08pfSil9I9SSrenlB6f9V+kM3KdiIj55tfr5iqB2cpUa7Zac4HZ\nxqr4y/LNJN5NPiRl+Q8rp8n3v69JKT3XHKTyXiafv34J+SCVH5IPUnnlEntK6XudhVjFZnP1MbZp\nmc1sQ1JrLjBbqdnaUMPK/SZWTi7kneqXAH8WEX8OnCTfi7+F3F/+v4G/Ry74b0gp/XxK6ddSSkf6\nLuyN9XIdAG7sfETtMVuZas1Way4w22jVsHKfJ98nX8tp4DBLq/IHSjhIZRO55lNKF3U0nFaZzWxD\nUmsuMFup2dpQ9Ia6ZgPcjg3e9h3gb5S00WKTuXaWuIHEbGYbklpzgdkoNFtbir4s30zaRgenLJQ2\nubXmArNhtkGpNReYjUKztaXo4t44TL70vprTwB0djqVNteYCs5Wq1my15gKzjVYN99wXd0weIG+k\nWFT0jslac4HZzDYsteYCs5WarQ3FF3d4ZZJvBD4K7CQ/cOYw8NmSJ7fWXGC2UtWardZcYLaxqqK4\nL1frBopac4HZSlVrtlpzgdnGpLriLknS2NWwoU6SJC1jcZckqTKdFveI+AfNg/1/GhFfiYgPdvn1\nJUkag86Ke0T8EvBbwD8jH6P6EPDfImJvV2OQJGkMOttQFxGLp619qvl1ACeA30sp/WYng5AkaQQ6\nWblHxA7gIPA/Fv9b07Lw34Gf62IMkiSNRVeX5feSnyD09Bn//WngLR2NQZKkUeh7t3wANtpLktSi\nror7M+Tn/b75jP/+Jlau5iVJ0hQ6Ke4ppQXgAeDDi/+t2VD3YfKD/yVJUkvO6fBr/TbwxYh4ALgX\n+DTwGuC2DscgSVL1OivuKaU/anraf518ef6rwF9NKX2vqzFIkjQGHhwjSVJl+t4tL0mSWmZxlySp\nMhZ3SZIqY3GXJKkyFndJkipjcZckqTIWd0mSKmNxlySpMhZ3SZIqY3GXJKkyFndJkipjcZckqTIW\nd0mSKmNxlySpMhZ3SZIqY3GXJKkyFndJkipjcZckqTIWd0mSKmNxlySpMhZ3SZIqY3GXJKkyFndJ\nkipjcZckqTIWd0mSKmNxlySpMhZ3SZIqY3GXJKky/x+fqmL6dPrU0gAAAABJRU5ErkJggg==\n",
      "text/plain": [
       "<matplotlib.figure.Figure at 0x7f419c8fbf90>"
      ]
     },
     "metadata": {},
     "output_type": "display_data"
    },
    {
     "data": {
      "image/png": "iVBORw0KGgoAAAANSUhEUgAAAfcAAAFkCAYAAAA9h3LKAAAABHNCSVQICAgIfAhkiAAAAAlwSFlz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\n",
      "text/plain": [
       "<matplotlib.figure.Figure at 0x108550c90>"
       "('Hilbert Bases:',\n",
       " [[1L, 1L],\n",
       "  [1L, 2L],\n",
       "  [1L, 3L],\n",
       "  [1L, 4L],\n",
       "  [2L, 1L],\n",
       "  [3L, 1L],\n",
       "  [40L, 13L],\n",
       "  [277L, 90L]])"
      ]
     },
     "metadata": {},
     "output_type": "display_data"
    }
   ],
   "source": [
    "%pylab inline\n",
    "\n",
    "import PyNormaliz\n",
    "import ipywidgets as widgets\n",
    "import numpy as np\n",
    "import matplotlib.pyplot as plt\n",
    "\n",
    "from __future__ import print_function\n",
    "from ipywidgets import interact, interactive, fixed\n",
    "from IPython.display import display\n",
    "from fractions import Fraction\n",
    "\n",
    "vectors = [[2,1],[1,4]]\n",
    "cone = PyNormaliz.NmzCone(\"cone\",vectors)\n",
    "HB = PyNormaliz.NmzResult(cone,\"HilbertBasis\")\n",
    "    \n",
    "# Draw background lattice.\n",
    "xLattice = np.arange(-1,8)\n",
    "yLattice = np.arange(-1,8)\n",
    "\n",
    "def pltHilbertBasis(theta=np.pi/10):\n",
    "    fig,ax = plt.subplots()\n",
    "    plt.ylim([-0.5,8])\n",
    "    plt.xlim([-0.5,8])\n",
    "    ax.axis('off')\n",
    "    vectors[0][0],vectors[0][1] = np.cos(theta)*2, np.sin(theta)*2\n",
    "    print (\"theta\",theta)\n",
    "    ratio = vectors[0][0] / vectors[0][1]\n",
    "    print (\"ratio\",ratio)\n",
    "    integers = Fraction.from_float(ratio).limit_denominator(100)\n",
    "    print (\"integers\", integers)\n",
    "    # TODO: Solve for >2 dimensions.\n",
    "    # for ind,d in enumerate(vectors[0]): \n",
    "    #     integers = Fraction.from_float(d).limit_denominator(100)\n",
    "\n",
    "    vectors[0][0] = integers.numerator\n",
    "    vectors[0][1] = integers.denominator\n",
    "    print (\"new vector\", vectors)\n",
    "    for x in xLattice:\n",
    "        for y in yLattice:\n",
    "            plt.plot(x,y,'ko')\n",
    "\n",
    "    # Plot bounding vectors.\n",
    "    for v in vectors:\n",
    "        ax.plot([0,v[0]*2],[0,v[1]*2],'k-')\n",
    "    \n",
    "    cone = PyNormaliz.NmzCone(\"cone\",vectors)\n",
    "    HB = PyNormaliz.NmzResult(cone,\"HilbertBasis\")\n",
    "    xList = [x for x,y in HB]\n",
    "    yList = [y for x,y in HB]\n",
    "\n",
    "    # TODO: Complete fill_between function.\n",
    "    # x = np.arange(0,0.1,2)\n",
    "    # y1 = x*2\n",
    "    # y2 = x*3\n",
    "    # ax.fill_between(x,y1,y2,where=y2>=y1,facecolor='green', interpolate=True)\n",
    "    # Plot Hilbert basis.\n",
    "    ax.plot(xList,yList,'ro')\n",
    "    ax.annotate(str(0), (-.5,-.5))\n",
    "    gcf().show()\n",
    "    return \"Hilbert Bases:\", HB\n",
    "\n",
    "w = interactive(pltHilbertBasis, theta=(0.01,np.pi/2,np.pi/40))\n",
    "display(w)"
   ]
  },
  {
   "cell_type": "markdown",
   "metadata": {},
   "source": [
    "Now we would also like to define a grading for our cone, which in this example will be the total grading."
   ]
  },
  {
   "cell_type": "code",
   "execution_count": 7,
   "metadata": {
    "collapsed": false
   },
   "outputs": [
    {
     "data": {
      "text/plain": [
       "[[1L, -1L, 1L, 1L, 0L, 1L, 0L, 0L, 1L, 1L, 0L, 0L, 1L, 0L, 1L], [1L, 15L], 0L]"
      ]
     },
     "execution_count": 7,
     "metadata": {},
     "output_type": "execute_result"
    }
   ],
   "source": [
    "vectors = [[2,1],[1,4]]\n",
    "grading = [[1,1]]\n",
    "cone2 = PyNormaliz.NmzCone([\"cone\",vectors,\"grading\",grading])\n",
    "PyNormaliz.NmzResult(cone2,\"HilbertSeries\")"
   ]
  },
  {
   "cell_type": "code",
   "execution_count": 9,
   "metadata": {
    "collapsed": false
   },
   "outputs": [
    {
     "data": {
      "text/plain": [
       "[[15L, 7L],\n",
       " [-7L, 7L],\n",
       " [1L, 7L],\n",
       " [9L, 7L],\n",
       " [2L, 7L],\n",
       " [10L, 7L],\n",
       " [3L, 7L],\n",
       " [-4L, 7L],\n",
       " [4L, 7L],\n",
       " [12L, 7L],\n",
       " [5L, 7L],\n",
       " [-2L, 7L],\n",
       " [6L, 7L],\n",
       " [-1L, 7L],\n",
       " [7L, 7L],\n",
       " 15L]"
      ]
     },
     "execution_count": 9,
     "metadata": {},
     "output_type": "execute_result"
    }
   ],
   "source": [
    "PyNormaliz.NmzResult(cone2,\"HilbertQuasiPolynomial\")"
   ]
  },
  {
   "cell_type": "code",
   "execution_count": 2,
   "metadata": {
    "collapsed": false
   },
   "outputs": [
    {
     "data": {
      "application/javascript": [
       "alert(\"hello world\")"
      ],
      "text/plain": [
       "<IPython.core.display.Javascript object>"
      ]
     },
     "execution_count": 2,
     "metadata": {},
     "output_type": "execute_result"
    }
   ],
   "source": [
    "from IPython.display import display, display_pretty, Javascript, HTML\n",
    "Javascript('alert(\"hello world\")')"
   ]
  },
  {
   "cell_type": "code",
   "execution_count": 13,
   "metadata": {
    "collapsed": false
   },
   "outputs": [
    {
     "data": {
      "application/javascript": [
       "requirejs.config({\n",
       "    paths: { \n",
       "        'd3': ['//cdnjs.cloudflare.com/ajax/libs/d3/3.5.6/d3'], \n",
       "                                               // strip .js ^, require adds it back\n",
       "    },\n",
       "});\n",
       "\n",
       "require(['d3'], function(d3) {\n",
       "    console.log(\"Loaded :)\");    \n",
       "    return {};\n",
       "});\n",
       "\n",
       "display(HTML(\"\"\"\n",
       "Test\n",
       "            \"\"\"))\n",
       "// display(HTML(\"\"\"\n",
       "//     <style>\n",
       "//     .bar {\n",
       "//       fill: steelblue;\n",
       "//     }\n",
       "//     .bar:hover {\n",
       "//       fill: brown;\n",
       "//     }\n",
       "//     .axis {\n",
       "//       font: 10px sans-serif;\n",
       "//     }\n",
       "//     .axis path,\n",
       "//     .axis line {\n",
       "//       fill: none;\n",
       "//       stroke: #000;\n",
       "//     }\n",
       "//     .x.axis path {\n",
       "//       display: none;\n",
       "//     }\n",
       "//     </style>\n",
       "//     <div id=\"chart_d3\"/>\n",
       "// \"\"\"))"
      ],
      "text/plain": [
       "<IPython.core.display.Javascript object>"
      ]
     },
     "metadata": {},
     "output_type": "display_data"
    }
   ],
   "source": [
    "%%javascript\n",
    "require(['d3'], function(d3) {\n",
    "    console.log(\"Loaded :)\");    \n",
    "    return {};\n",
    "});\n",
    "\n",
    "display(HTML(\"\"\"\n",
    "Test\n",
    "            \"\"\"))\n",
    "// display(HTML(\"\"\"\n",
    "//     <style>\n",
    "//     .bar {\n",
    "//       fill: steelblue;\n",
    "//     }\n",
    "//     .bar:hover {\n",
    "//       fill: brown;\n",
    "//     }\n",
    "//     .axis {\n",
    "//       font: 10px sans-serif;\n",
    "//     }\n",
    "//     .axis path,\n",
    "//     .axis line {\n",
    "//       fill: none;\n",
    "//       stroke: #000;\n",
    "//     }\n",
    "//     .x.axis path {\n",
    "//       display: none;\n",
    "//     }\n",
    "//     </style>\n",
    "//     <div id=\"chart_d3\"/>\n",
    "// \"\"\"))"
   ]
  },
  {
   "cell_type": "code",
   "execution_count": 21,
   "metadata": {
    "collapsed": false
   },
   "outputs": [
    {
     "data": {
      "application/javascript": [
       "require.config({\n",
       "  paths: {\n",
       "      d3: '//cdnjs.cloudflare.com/ajax/libs/d3/3.4.8/d3.min'\n",
       "  }\n",
       "});"
      ],
      "text/plain": [
       "<IPython.core.display.Javascript object>"
      ]
     },
     "metadata": {},
     "output_type": "display_data"
    }
   ],
   "source": [
    "%%javascript\n",
    "require.config({\n",
    "  paths: {\n",
    "      d3: '//cdnjs.cloudflare.com/ajax/libs/d3/3.4.8/d3.min'\n",
    "  }\n",
    "});"
   ]
  },
  {
   "cell_type": "code",
   "execution_count": 26,
   "metadata": {
    "collapsed": false
   },
   "outputs": [
    {
     "data": {
      "application/javascript": [
       "element.append(\"<div id='chart1'>Body</div>\");\n",
       "var css = 'h1 { background: red; }',\n",
       "    head = document.head || document.getElementsByTagName('head')[0],\n",
       "    style = document.createElement('style');\n",
       "\n",
       "style.type = 'text/css';\n",
       "if (style.styleSheet){\n",
       "  style.styleSheet.cssText = css;\n",
       "} else {\n",
       "  style.appendChild(document.createTextNode(css));\n",
       "}\n",
       "\n",
       "style.appendChild(\n",
       "//     .rendered_html {\n",
       "//              color: red;\n",
       "//              }\n",
       "            )\n",
       "head.appendChild(style);"
      ],
      "text/plain": [
       "<IPython.core.display.Javascript object>"
      ]
     },
     "metadata": {},
     "output_type": "display_data"
    }
   ],
   "source": [
    "%%javascript\n",
    "element.append(\"<div id='chart1'>Body</div>\");\n",
    "var css = 'h1 { background: red; }',\n",
    "    head = document.head || document.getElementsByTagName('head')[0],\n",
    "    style = document.createElement('style');\n",
    "\n",
    "style.type = 'text/css';\n",
    "if (style.styleSheet){\n",
    "  style.styleSheet.cssText = css;\n",
    "} else {\n",
    "  style.appendChild(document.createTextNode(css));\n",
    "}\n",
    "\n",
    "style.appendChild(\n",
    "//     .rendered_html {\n",
    "//              color: red;\n",
    "//              }\n",
    "            )\n",
    "head.appendChild(style);"
   ]
  },
  {
   "cell_type": "code",
   "execution_count": null,
   "metadata": {
    "collapsed": true
   },
   "outputs": [],
   "source": []
  }
 ],
 "metadata": {
  "kernelspec": {
   "display_name": "Python 2",
   "language": "python",
   "name": "python2"
  },
  "language_info": {
   "codemirror_mode": {
    "name": "ipython",
    "version": 2
   },
   "file_extension": ".py",
   "mimetype": "text/x-python",
   "name": "python",
   "nbconvert_exporter": "python",
   "pygments_lexer": "ipython2",
   "version": "2.7.12"
  },
  "widgets": {
   "state": {
    "2e9ff385164e409899605e1d8dd72989": {
     "views": [
      {
       "cell_index": 1
      }
     ]
    }
   },
   "version": "1.2.0"
  }
 },
 "nbformat": 4,
 "nbformat_minor": 2
}
