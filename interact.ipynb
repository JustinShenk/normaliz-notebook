{
 "cells": [
  {
   "cell_type": "markdown",
   "metadata": {},
   "source": [
    "## PyNormaliz\n",
    "\n",
    "Normaliz is a tool for computing the Hilbert bases and enumerative data of rational cones and, more generally, sets of lattice points in rational polyhedra.\n",
    "\n",
    "### Example 1: A cone in dimension 2\n",
    "\n",
    "We want to investigate the cone $C=\\mathbb{R}_{+}(2,1)+\\mathbb{R}_{+}(1,3)\\subset\\mathbb{R}^2$:\n",
    "\n",
    "This cone is defined in the input file 2cone.in:\n",
    "\n",
    "<pre>\n",
    "amb_space 2 \n",
    "cone 2\n",
    "1 3\n",
    "2 1\n",
    "</pre>\n",
    "\n",
    "The input tells Normaliz that the ambient space is R2, and then a cone with 2 generators is defined, namely the cone C from above.\n",
    "The figure indicates the Hilbert basis, and this is our first computation goal.\n",
    "If you prefer to consider the columns of a matrix as input vectors (or have got a matrix in this format from another system) you can use the input\n",
    "\n",
    "Calculate the Hilbert basis from finite vectors."
   ]
  },
  {
   "cell_type": "code",
   "execution_count": 1,
   "metadata": {
    "collapsed": false
   },
   "outputs": [
    {
     "data": {
      "image/png": "[encoded data removed]",
      "text/plain": [
       "<matplotlib.figure.Figure at 0x10b06a0d0>"
      ]
     },
     "metadata": {},
     "output_type": "display_data"
    },
    {
     "data": {
      "text/plain": [
       "('Hilbert Bases:',\n",
       " [[1L, 1L],\n",
       "  [1L, 2L],\n",
       "  [1L, 3L],\n",
       "  [1L, 4L],\n",
       "  [3L, 2L],\n",
       "  [5L, 3L],\n",
       "  [7L, 4L],\n",
       "  [9L, 5L],\n",
       "  [11L, 6L],\n",
       "  [13L, 7L],\n",
       "  [15L, 8L],\n",
       "  [17L, 9L],\n",
       "  [19L, 10L],\n",
       "  [21L, 11L],\n",
       "  [44L, 23L],\n",
       "  [67L, 35L],\n",
       "  [90L, 47L]])"
      ]
     },
     "metadata": {},
     "output_type": "display_data"
    }
   ],
   "source": [
    "%pylab inline\n",
    "from __future__ import print_function\n",
    "import PyNormaliz\n",
    "from ipywidgets import interact, interactive, fixed\n",
    "from IPython.display import display\n",
    "import ipywidgets as widgets\n",
    "import numpy as np\n",
    "import matplotlib.pyplot as plt\n",
    "from fractions import Fraction\n",
    "\n",
    "vectors = [[2,1],[1,4]]\n",
    "cone = PyNormaliz.NmzCone(\"cone\",vectors)\n",
    "HB = PyNormaliz.NmzResult(cone,\"HilbertBasis\")\n",
    "    \n",
    "# Draw background lattice.\n",
    "xLattice = np.arange(-1,8)\n",
    "yLattice = np.arange(-1,8)\n",
    "\n",
    "def pltHilbertBasis(theta=np.pi/10):\n",
    "    fig,ax = plt.subplots()\n",
    "    plt.ylim([-0.5,8])\n",
    "    plt.xlim([-0.5,8])\n",
    "    ax.axis('off')\n",
    "    vectors[0][0],vectors[0][1] = np.cos(theta)*2, np.sin(theta)*2\n",
    "    ratio = vectors[0][0] / vectors[0][1]\n",
    "    integers = Fraction.from_float(ratio).limit_denominator(100)\n",
    "    # TODO: Solve for >2 dimensions.\n",
    "    # for ind,d in enumerate(vectors[0]): \n",
    "    #     integers = Fraction.from_float(d).limit_denominator(100)\n",
    "\n",
    "    vectors[0][0] = integers.numerator\n",
    "    vectors[0][1] = integers.denominator\n",
    "    for x in xLattice:\n",
    "        for y in yLattice:\n",
    "            plt.plot(x,y,'ko')\n",
    "\n",
    "    # Plot bounding vectors.\n",
    "    for v in vectors:\n",
    "        ax.plot([0,v[0]*2],[0,v[1]*2],'k-')\n",
    "    \n",
    "    cone = PyNormaliz.NmzCone(\"cone\",vectors)\n",
    "    HB = PyNormaliz.NmzResult(cone,\"HilbertBasis\")\n",
    "    xList = [x for x,y in HB]\n",
    "    yList = [y for x,y in HB]\n",
    "\n",
    "    # TODO: Complete fill_between function.\n",
    "    # x = np.arange(0,0.1,2)\n",
    "    # y1 = x*2\n",
    "    # y2 = x*3\n",
    "    # ax.fill_between(x,y1,y2,where=y2>=y1,facecolor='green', interpolate=True)\n",
    "    # Plot Hilbert basis.\n",
    "    ax.plot(xList,yList,'ro')\n",
    "    ax.annotate(str(0), (-.5,-.5))\n",
    "    plt.show()\n",
    "    return \"Hilbert Bases:\", HB\n",
    "\n",
    "w = interactive(pltHilbertBasis, theta=(0.01,np.pi/2,np.pi/40))\n",
    "display(w)"
   ]
  },
  {
   "cell_type": "code",
   "execution_count": null,
   "metadata": {
    "collapsed": true
   },
   "outputs": [],
   "source": []
  }
 ],
 "metadata": {
  "kernelspec": {
   "display_name": "Python 2",
   "language": "python",
   "name": "python2"
  },
  "language_info": {
   "codemirror_mode": {
    "name": "ipython",
    "version": 2
   },
   "file_extension": ".py",
   "mimetype": "text/x-python",
   "name": "python",
   "nbconvert_exporter": "python",
   "pygments_lexer": "ipython2",
   "version": "2.7.13"
  },
  "widgets": {
   "state": {
    "8d6367523ab346e59de6d3fa532ab77d": {
     "views": [
      {
       "cell_index": 1
      }
     ]
    }
   },
   "version": "1.2.0"
  }
 },
 "nbformat": 4,
 "nbformat_minor": 2
}
