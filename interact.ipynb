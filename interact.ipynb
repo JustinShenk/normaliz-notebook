{
 "cells": [
  {
   "cell_type": "markdown",
   "metadata": {},
   "source": [
    "## PyNormaliz\n",
    "\n",
    "Normaliz is a tool for computing the Hilbert bases and enumerative data of rational cones and, more generally, sets of lattice points in rational polyhedra.\n",
    "\n",
    "### Example 1: A cone in dimension 2\n",
    "\n",
    "We want to investigate the cone $C=\\mathbb{R}_{+}(2,1)+\\mathbb{R}_{+}(1,3)\\subset\\mathbb{R}^2$:\n",
    "\n",
    "This cone is defined in the input file 2cone.in:\n",
    "\n",
    "<pre>\n",
    "amb_space 2 \n",
    "cone 2\n",
    "1 3\n",
    "2 1\n",
    "</pre>\n",
    "\n",
    "The input tells Normaliz that the ambient space is R2, and then a cone with 2 generators is defined, namely the cone C from above.\n",
    "The figure indicates the Hilbert basis, and this is our first computation goal.\n",
    "If you prefer to consider the columns of a matrix as input vectors (or have got a matrix in this format from another system) you can use the input\n",
    "\n",
    "Calculate the Hilbert basis from finite vectors."
   ]
  },
  {
   "cell_type": "code",
   "execution_count": null,
   "metadata": {
    "collapsed": false
   },
   "outputs": [],
   "source": [
    "%pylab inline\n",
    "\n",
    "import PyNormaliz\n",
    "import ipywidgets as widgets\n",
    "import numpy as np\n",
    "import matplotlib.pyplot as plt\n",
    "\n",
    "from __future__ import print_function\n",
    "from ipywidgets import interact, interactive, fixed\n",
    "from IPython.display import display\n",
    "from fractions import Fraction\n",
    "\n",
    "vectors = [[2,1],[1,4]]\n",
    "cone = PyNormaliz.NmzCone(\"cone\",vectors)\n",
    "HB = PyNormaliz.NmzResult(cone,\"HilbertBasis\")\n",
    "    \n",
    "# Draw background lattice.\n",
    "xLattice = np.arange(-1,8)\n",
    "yLattice = np.arange(-1,8)\n",
    "\n",
    "def pltHilbertBasis(theta=np.pi/10):\n",
    "    fig,ax = plt.subplots()\n",
    "    plt.ylim([-0.5,8])\n",
    "    plt.xlim([-0.5,8])\n",
    "    ax.axis('off')\n",
    "    vectors[0][0],vectors[0][1] = np.cos(theta)*2, np.sin(theta)*2\n",
    "    print (\"theta\",theta)\n",
    "    ratio = vectors[0][0] / vectors[0][1]\n",
    "    print (\"ratio\",ratio)\n",
    "    integers = Fraction.from_float(ratio).limit_denominator(100)\n",
    "    print (\"integers\", integers)\n",
    "    # TODO: Solve for >2 dimensions.\n",
    "    # for ind,d in enumerate(vectors[0]): \n",
    "    #     integers = Fraction.from_float(d).limit_denominator(100)\n",
    "\n",
    "    vectors[0][0] = integers.numerator\n",
    "    vectors[0][1] = integers.denominator\n",
    "    print (\"new vector\", vectors)\n",
    "    for x in xLattice:\n",
    "        for y in yLattice:\n",
    "            plt.plot(x,y,'ko')\n",
    "\n",
    "    # Plot bounding vectors.\n",
    "    for v in vectors:\n",
    "        ax.plot([0,v[0]*2],[0,v[1]*2],'k-')\n",
    "    \n",
    "    cone = PyNormaliz.NmzCone(\"cone\",vectors)\n",
    "    HB = PyNormaliz.NmzResult(cone,\"HilbertBasis\")\n",
    "    xList = [x for x,y in HB]\n",
    "    yList = [y for x,y in HB]\n",
    "\n",
    "    # TODO: Complete fill_between function.\n",
    "    # x = np.arange(0,0.1,2)\n",
    "    # y1 = x*2\n",
    "    # y2 = x*3\n",
    "    # ax.fill_between(x,y1,y2,where=y2>=y1,facecolor='green', interpolate=True)\n",
    "    # Plot Hilbert basis.\n",
    "    ax.plot(xList,yList,'ro')\n",
    "    ax.annotate(str(0), (-.5,-.5))\n",
    "    gcf().show()\n",
    "    return \"Hilbert Bases:\", HB\n",
    "\n",
    "w = interactive(pltHilbertBasis, theta=(0.01,np.pi/2,np.pi/40))\n",
    "display(w)"
   ]
  },
  {
   "cell_type": "markdown",
   "metadata": {},
   "source": [
    "### Grading\n",
    "Now we would also like to define a grading for our cone, which in this example will be the total grading."
   ]
  },
  {
   "cell_type": "code",
   "execution_count": null,
   "metadata": {
    "collapsed": false
   },
   "outputs": [],
   "source": [
    "vectors = [[2,1],[1,4]]\n",
    "grading = [[1,1]]\n",
    "cone2 = PyNormaliz.NmzCone([\"cone\",vectors,\"grading\",grading])\n",
    "PyNormaliz.NmzResult(cone2,\"HilbertSeries\")"
   ]
  },
  {
   "cell_type": "code",
   "execution_count": null,
   "metadata": {
    "collapsed": false
   },
   "outputs": [],
   "source": [
    "PyNormaliz.NmzResult(cone2,\"HilbertQuasiPolynomial\")"
   ]
  }
 ],
 "metadata": {
  "kernelspec": {
   "display_name": "Python 2",
   "language": "python",
   "name": "python2"
  },
  "language_info": {
   "codemirror_mode": {
    "name": "ipython",
    "version": 2
   },
   "file_extension": ".py",
   "mimetype": "text/x-python",
   "name": "python",
   "nbconvert_exporter": "python",
   "pygments_lexer": "ipython2",
   "version": "2.7.13"
  },
  "widgets": {
   "state": {
    "08a097ba9463462d842fb61356b7bc1f": {
     "views": [
      {
       "cell_index": 1
      }
     ]
    }
   },
   "version": "1.2.0"
  }
 },
 "nbformat": 4,
 "nbformat_minor": 2
}
