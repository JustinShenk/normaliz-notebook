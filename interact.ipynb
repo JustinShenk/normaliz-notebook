{
 "cells": [
  {
   "cell_type": "markdown",
   "metadata": {},
   "source": [
    "## PyNormaliz\n",
    "\n",
    "Normaliz is a tool for computing the Hilbert bases and enumerative data of rational cones and, more generally, sets of lattice points in rational polyhedra.\n",
    "\n",
    "### Example 1: A cone in dimension 2\n",
    "\n",
    "We want to investigate the cone $C=\\mathbb{R}_{+}(2,1)+\\mathbb{R}_{+}(1,3)\\subset\\mathbb{R}^2$:\n",
    "\n",
    "This cone is defined in the input file 2cone.in:\n",
    "\n",
    "<pre>\n",
    "amb_space 2 \n",
    "cone 2\n",
    "1 3\n",
    "2 1\n",
    "</pre>\n",
    "\n",
    "The input tells Normaliz that the ambient space is R2, and then a cone with 2 generators is defined, namely the cone C from above.\n",
    "The figure indicates the Hilbert basis, and this is our first computation goal.\n",
    "If you prefer to consider the columns of a matrix as input vectors (or have got a matrix in this format from another system) you can use the input\n",
    "\n",
    "Calculate the Hilbert basis from finite vectors."
   ]
  },
  {
   "cell_type": "code",
   "execution_count": 2,
   "metadata": {
    "collapsed": false
   },
   "outputs": [
    {
     "name": "stdout",
     "output_type": "stream",
     "text": [
      "theta 0.63832\n",
      "ratio 1.34782554619\n",
      "integers 31/23\n",
      "new vector [[31, 23], [1, 4]]\n"
     ]
    },
    {
     "data": {
      "text/plain": [
       "('Hilbert Bases:',\n",
       " [[1L, 1L], [1L, 2L], [1L, 3L], [1L, 4L], [4L, 3L], [31L, 23L]])"
      ]
     },
     "metadata": {},
     "output_type": "display_data"
    },
    {
     "data": {
      "image/png": "[encoded data removed]",
      "text/plain": [
       "<matplotlib.figure.Figure at 0x108550c90>"
      ]
     },
     "metadata": {},
     "output_type": "display_data"
    }
   ],
   "source": [
    "%pylab inline\n",
    "\n",
    "import PyNormaliz\n",
    "import ipywidgets as widgets\n",
    "import numpy as np\n",
    "import matplotlib.pyplot as plt\n",
    "\n",
    "from __future__ import print_function\n",
    "from ipywidgets import interact, interactive, fixed\n",
    "from IPython.display import display\n",
    "from fractions import Fraction\n",
    "\n",
    "vectors = [[2,1],[1,4]]\n",
    "cone = PyNormaliz.NmzCone(\"cone\",vectors)\n",
    "HB = PyNormaliz.NmzResult(cone,\"HilbertBasis\")\n",
    "    \n",
    "# Draw background lattice.\n",
    "xLattice = np.arange(-1,8)\n",
    "yLattice = np.arange(-1,8)\n",
    "\n",
    "def pltHilbertBasis(theta=np.pi/10):\n",
    "    fig,ax = plt.subplots()\n",
    "    plt.ylim([-0.5,8])\n",
    "    plt.xlim([-0.5,8])\n",
    "    ax.axis('off')\n",
    "    vectors[0][0],vectors[0][1] = np.cos(theta)*2, np.sin(theta)*2\n",
    "    print (\"theta\",theta)\n",
    "    ratio = vectors[0][0] / vectors[0][1]\n",
    "    print (\"ratio\",ratio)\n",
    "    integers = Fraction.from_float(ratio).limit_denominator(100)\n",
    "    print (\"integers\", integers)\n",
    "    # TODO: Solve for >2 dimensions.\n",
    "    # for ind,d in enumerate(vectors[0]): \n",
    "    #     integers = Fraction.from_float(d).limit_denominator(100)\n",
    "\n",
    "    vectors[0][0] = integers.numerator\n",
    "    vectors[0][1] = integers.denominator\n",
    "    print (\"new vector\", vectors)\n",
    "    for x in xLattice:\n",
    "        for y in yLattice:\n",
    "            plt.plot(x,y,'ko')\n",
    "\n",
    "    # Plot bounding vectors.\n",
    "    for v in vectors:\n",
    "        ax.plot([0,v[0]*2],[0,v[1]*2],'k-')\n",
    "    \n",
    "    cone = PyNormaliz.NmzCone(\"cone\",vectors)\n",
    "    HB = PyNormaliz.NmzResult(cone,\"HilbertBasis\")\n",
    "    xList = [x for x,y in HB]\n",
    "    yList = [y for x,y in HB]\n",
    "\n",
    "    # TODO: Complete fill_between function.\n",
    "    # x = np.arange(0,0.1,2)\n",
    "    # y1 = x*2\n",
    "    # y2 = x*3\n",
    "    # ax.fill_between(x,y1,y2,where=y2>=y1,facecolor='green', interpolate=True)\n",
    "    # Plot Hilbert basis.\n",
    "    ax.plot(xList,yList,'ro')\n",
    "    ax.annotate(str(0), (-.5,-.5))\n",
    "    gcf().show()\n",
    "    return \"Hilbert Bases:\", HB\n",
    "\n",
    "w = interactive(pltHilbertBasis, theta=(0.01,np.pi/2,np.pi/40))\n",
    "display(w)"
   ]
  },
  {
   "cell_type": "code",
   "execution_count": 2,
   "metadata": {
    "collapsed": false
   },
   "outputs": [
    {
     "data": {
      "application/javascript": [
       "alert(\"hello world\")"
      ],
      "text/plain": [
       "<IPython.core.display.Javascript object>"
      ]
     },
     "execution_count": 2,
     "metadata": {},
     "output_type": "execute_result"
    }
   ],
   "source": [
    "from IPython.display import display, display_pretty, Javascript, HTML\n",
    "Javascript('alert(\"hello world\")')"
   ]
  },
  {
   "cell_type": "code",
   "execution_count": 13,
   "metadata": {
    "collapsed": false
   },
   "outputs": [
    {
     "data": {
      "application/javascript": [
       "requirejs.config({\n",
       "    paths: { \n",
       "        'd3': ['//cdnjs.cloudflare.com/ajax/libs/d3/3.5.6/d3'], \n",
       "                                               // strip .js ^, require adds it back\n",
       "    },\n",
       "});\n",
       "\n",
       "require(['d3'], function(d3) {\n",
       "    console.log(\"Loaded :)\");    \n",
       "    return {};\n",
       "});\n",
       "\n",
       "display(HTML(\"\"\"\n",
       "Test\n",
       "            \"\"\"))\n",
       "// display(HTML(\"\"\"\n",
       "//     <style>\n",
       "//     .bar {\n",
       "//       fill: steelblue;\n",
       "//     }\n",
       "//     .bar:hover {\n",
       "//       fill: brown;\n",
       "//     }\n",
       "//     .axis {\n",
       "//       font: 10px sans-serif;\n",
       "//     }\n",
       "//     .axis path,\n",
       "//     .axis line {\n",
       "//       fill: none;\n",
       "//       stroke: #000;\n",
       "//     }\n",
       "//     .x.axis path {\n",
       "//       display: none;\n",
       "//     }\n",
       "//     </style>\n",
       "//     <div id=\"chart_d3\"/>\n",
       "// \"\"\"))"
      ],
      "text/plain": [
       "<IPython.core.display.Javascript object>"
      ]
     },
     "metadata": {},
     "output_type": "display_data"
    }
   ],
   "source": [
    "%%javascript\n",
    "require(['d3'], function(d3) {\n",
    "    console.log(\"Loaded :)\");    \n",
    "    return {};\n",
    "});\n",
    "\n",
    "display(HTML(\"\"\"\n",
    "Test\n",
    "            \"\"\"))\n",
    "// display(HTML(\"\"\"\n",
    "//     <style>\n",
    "//     .bar {\n",
    "//       fill: steelblue;\n",
    "//     }\n",
    "//     .bar:hover {\n",
    "//       fill: brown;\n",
    "//     }\n",
    "//     .axis {\n",
    "//       font: 10px sans-serif;\n",
    "//     }\n",
    "//     .axis path,\n",
    "//     .axis line {\n",
    "//       fill: none;\n",
    "//       stroke: #000;\n",
    "//     }\n",
    "//     .x.axis path {\n",
    "//       display: none;\n",
    "//     }\n",
    "//     </style>\n",
    "//     <div id=\"chart_d3\"/>\n",
    "// \"\"\"))"
   ]
  },
  {
   "cell_type": "code",
   "execution_count": 21,
   "metadata": {
    "collapsed": false
   },
   "outputs": [
    {
     "data": {
      "application/javascript": [
       "require.config({\n",
       "  paths: {\n",
       "      d3: '//cdnjs.cloudflare.com/ajax/libs/d3/3.4.8/d3.min'\n",
       "  }\n",
       "});"
      ],
      "text/plain": [
       "<IPython.core.display.Javascript object>"
      ]
     },
     "metadata": {},
     "output_type": "display_data"
    }
   ],
   "source": [
    "%%javascript\n",
    "require.config({\n",
    "  paths: {\n",
    "      d3: '//cdnjs.cloudflare.com/ajax/libs/d3/3.4.8/d3.min'\n",
    "  }\n",
    "});"
   ]
  },
  {
   "cell_type": "code",
   "execution_count": 26,
   "metadata": {
    "collapsed": false
   },
   "outputs": [
    {
     "data": {
      "application/javascript": [
       "element.append(\"<div id='chart1'>Body</div>\");\n",
       "var css = 'h1 { background: red; }',\n",
       "    head = document.head || document.getElementsByTagName('head')[0],\n",
       "    style = document.createElement('style');\n",
       "\n",
       "style.type = 'text/css';\n",
       "if (style.styleSheet){\n",
       "  style.styleSheet.cssText = css;\n",
       "} else {\n",
       "  style.appendChild(document.createTextNode(css));\n",
       "}\n",
       "\n",
       "style.appendChild(\n",
       "//     .rendered_html {\n",
       "//              color: red;\n",
       "//              }\n",
       "            )\n",
       "head.appendChild(style);"
      ],
      "text/plain": [
       "<IPython.core.display.Javascript object>"
      ]
     },
     "metadata": {},
     "output_type": "display_data"
    }
   ],
   "source": [
    "%%javascript\n",
    "element.append(\"<div id='chart1'>Body</div>\");\n",
    "var css = 'h1 { background: red; }',\n",
    "    head = document.head || document.getElementsByTagName('head')[0],\n",
    "    style = document.createElement('style');\n",
    "\n",
    "style.type = 'text/css';\n",
    "if (style.styleSheet){\n",
    "  style.styleSheet.cssText = css;\n",
    "} else {\n",
    "  style.appendChild(document.createTextNode(css));\n",
    "}\n",
    "\n",
    "style.appendChild(\n",
    "//     .rendered_html {\n",
    "//              color: red;\n",
    "//              }\n",
    "            )\n",
    "head.appendChild(style);"
   ]
  },
  {
   "cell_type": "code",
   "execution_count": null,
   "metadata": {
    "collapsed": true
   },
   "outputs": [],
   "source": []
  }
 ],
 "metadata": {
  "kernelspec": {
   "display_name": "Python 2",
   "language": "python",
   "name": "python2"
  },
  "language_info": {
   "codemirror_mode": {
    "name": "ipython",
    "version": 2
   },
   "file_extension": ".py",
   "mimetype": "text/x-python",
   "name": "python",
   "nbconvert_exporter": "python",
   "pygments_lexer": "ipython2",
   "version": "2.7.13"
  },
  "widgets": {
   "state": {
    "2e9ff385164e409899605e1d8dd72989": {
     "views": [
      {
       "cell_index": 1
      }
     ]
    }
   },
   "version": "1.2.0"
  }
 },
 "nbformat": 4,
 "nbformat_minor": 2
}
