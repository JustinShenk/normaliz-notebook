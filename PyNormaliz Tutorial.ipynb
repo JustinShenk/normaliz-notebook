{
 "cells": [
  {
   "cell_type": "markdown",
   "metadata": {
    "slideshow": {
     "slide_type": "slide"
    }
   },
   "source": [
    "# Introducing PyNormaliz \n",
    "\n",
    "(Sebastian Gutsche, Justhin Shenk, Richard Sieg)"
   ]
  },
  {
   "cell_type": "markdown",
   "metadata": {
    "slideshow": {
     "slide_type": "slide"
    }
   },
   "source": [
    "## Example 1: A cone in dimension 2\n",
    "\n",
    "We want to investigate the cone $C=\\mathbb{R}_{+}(2,1)+\\mathbb{R}_{+}(1,3)\\subset\\mathbb{R}^2$:\n",
    "\n",
    "This cone is defined in the input file 2cone.in:\n",
    "\n",
    "<pre>\n",
    "amb_space 2 \n",
    "cone 2\n",
    "1 3\n",
    "2 1\n",
    "</pre>"
   ]
  },
  {
   "cell_type": "code",
   "execution_count": 3,
   "metadata": {
    "collapsed": false,
    "scrolled": false,
    "slideshow": {
     "slide_type": "fragment"
    }
   },
   "outputs": [
    {
     "data": {
      "text/plain": [
       "[[1L, 1L], [1L, 2L], [1L, 3L], [2L, 1L]]"
      ]
     },
     "execution_count": 3,
     "metadata": {},
     "output_type": "execute_result"
    }
   ],
   "source": [
    "import PyNormaliz\n",
    "\n",
    "generators = [[1,3],[2,1]]\n",
    "cone = PyNormaliz.NmzCone(\"cone\",generators)\n",
    "HB = PyNormaliz.NmzResult(cone,\"HilbertBasis\")\n",
    "HB"
   ]
  }
 ],
 "metadata": {
  "celltoolbar": "Slideshow",
  "kernelspec": {
   "display_name": "Python 2",
   "language": "python",
   "name": "python2"
  },
  "language_info": {
   "codemirror_mode": {
    "name": "ipython",
    "version": 2
   },
   "file_extension": ".py",
   "mimetype": "text/x-python",
   "name": "python",
   "nbconvert_exporter": "python",
   "pygments_lexer": "ipython2",
   "version": "2.7.12"
  }
 },
 "nbformat": 4,
 "nbformat_minor": 2
}
