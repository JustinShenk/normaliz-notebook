{
 "cells": [
  {
   "cell_type": "markdown",
   "metadata": {
    "slideshow": {
     "slide_type": "slide"
    }
   },
   "source": [
    "# Introducing PyNormaliz \n",
    "\n",
    "(Winfried Bruns, Sebastian Gutsche, Justhin Shenk, Richard Sieg)"
   ]
  },
  {
   "cell_type": "markdown",
   "metadata": {
    "slideshow": {
     "slide_type": "slide"
    }
   },
   "source": [
    "## Example 1: A cone in dimension 2\n",
    "<img src=\"images/2cone.png\" width=\"240px\",style=\"float: right;\">\n",
    "We want to investigate the cone $C=\\mathbb{R}_{+}(2,1)+\\mathbb{R}_{+}(1,3)\\subset\\mathbb{R}^2$:\n",
    "\n",
    "\n"
   ]
  },
  {
   "cell_type": "code",
   "execution_count": 1,
   "metadata": {
    "collapsed": false,
    "scrolled": false,
    "slideshow": {
     "slide_type": "fragment"
    }
   },
   "outputs": [
    {
     "name": "stdout",
     "output_type": "stream",
     "text": [
      "[[1, 1], [1, 2], [1, 3], [2, 1]]\n"
     ]
    }
   ],
   "source": [
    "import PyNormaliz\n",
    "\n",
    "generators = [[1,3],[2,1]]\n",
    "cone = PyNormaliz.NmzCone(\"cone\",generators)\n",
    "HB = PyNormaliz.NmzResult(cone,\"HilbertBasis\")\n",
    "print(HB)"
   ]
  },
  {
   "cell_type": "markdown",
   "metadata": {
    "slideshow": {
     "slide_type": "subslide"
    }
   },
   "source": [
    "We can also use inequalities:"
   ]
  },
  {
   "cell_type": "code",
   "execution_count": 2,
   "metadata": {
    "collapsed": false,
    "slideshow": {
     "slide_type": "fragment"
    }
   },
   "outputs": [
    {
     "name": "stdout",
     "output_type": "stream",
     "text": [
      "[[1, 3], [2, 1]]\n",
      "[[1, 1], [1, 2], [1, 3], [2, 1]]\n"
     ]
    }
   ],
   "source": [
    "ineq = [[-1,2],[3,-1]]\n",
    "cone2 = PyNormaliz.NmzCone(\"inequalities\",ineq)\n",
    "Gen = PyNormaliz.NmzResult(cone2,\"ExtremeRays\")\n",
    "print(Gen)\n",
    "HB2 = PyNormaliz.NmzResult(cone2,\"HilbertBasis\")\n",
    "print(HB2)"
   ]
  },
  {
   "cell_type": "markdown",
   "metadata": {
    "slideshow": {
     "slide_type": "slide"
    }
   },
   "source": [
    "# Example 2: A lattice polytope\n",
    "<img src=\"images/lattice_simplex.png\" width=\"300px\",style=\"float: right;\">\n",
    "Now we investigate a lattice simplex (not normal/integrally closed)\n",
    "\n",
    "Hilbert series: $H(t)=\\frac{1+14t+15t^2}{(1-t)^4}$\n",
    "\n",
    "Ehrhart polynomial: $p(k)=1+4k+8k^2+5k^3$\n"
   ]
  },
  {
   "cell_type": "code",
   "execution_count": 3,
   "metadata": {
    "collapsed": false,
    "slideshow": {
     "slide_type": "fragment"
    }
   },
   "outputs": [
    {
     "name": "stdout",
     "output_type": "stream",
     "text": [
      "19\n",
      "False\n",
      "\n",
      "\n",
      "[[1, 14, 15], [1, 1, 1, 1], 0]\n",
      "[[1, 4, 8, 5], 1]\n"
     ]
    }
   ],
   "source": [
    "vertices = [[0,0,0],[2,0,0],[0,3,0],[0,0,5]]\n",
    "poly = PyNormaliz.NmzCone(\"polytope\",vertices)\n",
    "HB = PyNormaliz.NmzResult(poly,\"HilbertBasis\")\n",
    "print(len(HB))\n",
    "print(PyNormaliz.NmzResult(poly,\"IsDeg1HilbertBasis\"))\n",
    "print(\"\\n\")\n",
    "print(PyNormaliz.NmzResult(poly,\"HilbertSeries\")) \n",
    "print(PyNormaliz.NmzResult(poly,\"HilbertQuasiPolynomial\"))"
   ]
  },
  {
   "cell_type": "markdown",
   "metadata": {
    "slideshow": {
     "slide_type": "subslide"
    }
   },
   "source": [
    "Only interested in the lattice points?"
   ]
  },
  {
   "cell_type": "code",
   "execution_count": 4,
   "metadata": {
    "collapsed": false,
    "slideshow": {
     "slide_type": "fragment"
    }
   },
   "outputs": [
    {
     "name": "stdout",
     "output_type": "stream",
     "text": [
      "18\n",
      "[[0, 0, 0, 1], [0, 0, 1, 1], [0, 0, 2, 1], [0, 0, 3, 1], [0, 0, 4, 1], [0, 0, 5, 1], [0, 1, 0, 1], [0, 1, 1, 1], [0, 1, 2, 1], [0, 1, 3, 1], [0, 2, 0, 1], [0, 2, 1, 1], [0, 3, 0, 1], [1, 0, 0, 1], [1, 0, 1, 1], [1, 0, 2, 1], [1, 1, 0, 1], [2, 0, 0, 1]]\n"
     ]
    }
   ],
   "source": [
    "LP = PyNormaliz.NmzResult(poly,\"Deg1Elements\")\n",
    "print(len(LP))\n",
    "print(LP)"
   ]
  },
  {
   "cell_type": "markdown",
   "metadata": {
    "slideshow": {
     "slide_type": "slide"
    }
   },
   "source": [
    "# Example 3: A rational polytope\n",
    "\n",
    "<img src=\"images/rat_poly.png\" width=\"290px\",style=\"float: right;\">\n",
    "We construct a polytope with vertices $(5/2,3/2),(-2/3,-4/3),(1/4,-7/4)$\n"
   ]
  },
  {
   "cell_type": "code",
   "execution_count": 5,
   "metadata": {
    "collapsed": false,
    "slideshow": {
     "slide_type": "fragment"
    }
   },
   "outputs": [
    {
     "name": "stdout",
     "output_type": "stream",
     "text": [
      "[[1, 1, 4, 4, 5, 2, 4, 6, 3, 2, 6, 4, 2, 3], [1, 1, 12], 0]\n",
      "[[24, 6, 47], [19, 6, 47], [16, 6, 47], [15, 6, 47], [40, 6, 47], [19, 6, 47], [0, 6, 47], [31, 6, 47], [40, 6, 47], [3, 6, 47], [16, 6, 47], [31, 6, 47], 24]\n"
     ]
    }
   ],
   "source": [
    "rat_vert = [[5,3,2],[-2,-4,3],[1,-7,4]]\n",
    "grad = [[0,0,1]]\n",
    "rat_poly = PyNormaliz.NmzCone(\"cone\",rat_vert,\"grading\",grad)\n",
    "print(PyNormaliz.NmzResult(rat_poly,\"HilbertSeries\"))\n",
    "print(PyNormaliz.NmzResult(rat_poly,\"HilbertQuasiPolynomial\"))"
   ]
  },
  {
   "cell_type": "markdown",
   "metadata": {
    "slideshow": {
     "slide_type": "subslide"
    }
   },
   "source": [
    "<img src=\"images/rat_poly_it.png\" width=\"290px\",style=\"float: right;\">\n",
    "Compute its integer hull:\n"
   ]
  },
  {
   "cell_type": "code",
   "execution_count": 6,
   "metadata": {
    "collapsed": false,
    "slideshow": {
     "slide_type": "fragment"
    }
   },
   "outputs": [
    {
     "name": "stdout",
     "output_type": "stream",
     "text": [
      "[[0, -1, 1], [2, 1, 1]]\n",
      "[[1, -2, 0], [1, 0, 0]]\n"
     ]
    }
   ],
   "source": [
    "int_hull = PyNormaliz.NmzResult(rat_poly,\"IntegerHull\")\n",
    "print(PyNormaliz.NmzResult(int_hull,\"VerticesOfPolyhedron\"))\n",
    "print(PyNormaliz.NmzResult(int_hull,\"SupportHyperplanes\"))"
   ]
  },
  {
   "cell_type": "markdown",
   "metadata": {
    "slideshow": {
     "slide_type": "slide"
    }
   },
   "source": [
    "# Example 4: A polyhedron\n",
    "\n",
    "We define a polyhedron by inequalties:\n",
    "<img src=\"images/polyhedron.png\" width=\"350px\",style=\"float: right;\">\n",
    "\\begin{align*}\n",
    "2x_2&\\geq -1 \\\\\n",
    "2x_2 &\\leq 3 \\\\\n",
    "-2x_1+2x_2&\\leq 3 \n",
    "\\end{align*}\n"
   ]
  },
  {
   "cell_type": "code",
   "execution_count": 7,
   "metadata": {
    "collapsed": false,
    "slideshow": {
     "slide_type": "fragment"
    }
   },
   "outputs": [
    {
     "name": "stdout",
     "output_type": "stream",
     "text": [
      "[[1, 0, 0]]\n",
      "\n",
      "\n",
      "[[-1, 0, 1], [0, 1, 1]]\n",
      "\n",
      "\n",
      "[[-4, -1, 2], [0, 3, 2]]\n"
     ]
    }
   ],
   "source": [
    "ineq2 = [[0,2,1],[0,-2,3],[2,-2,3]]\n",
    "polyhedron = PyNormaliz.NmzCone(\"inhom_inequalities\",ineq2)\n",
    "HB_rec = PyNormaliz.NmzResult(polyhedron,\"HilbertBasis\")\n",
    "print(HB_rec)\n",
    "print(\"\\n\")\n",
    "module_gen = PyNormaliz.NmzResult(polyhedron,\"ModuleGenerators\")\n",
    "print(module_gen)\n",
    "print(\"\\n\")\n",
    "vert_poly = PyNormaliz.NmzResult(polyhedron,\"VerticesOfPolyhedron\")\n",
    "print(vert_poly)"
   ]
  },
  {
   "cell_type": "markdown",
   "metadata": {
    "slideshow": {
     "slide_type": "subslide"
    }
   },
   "source": [
    "...or by generators\n",
    "<img src=\"images/polyhedron_int_hull.png\" width=\"380px\",style=\"float: right;\">"
   ]
  },
  {
   "cell_type": "code",
   "execution_count": 8,
   "metadata": {
    "collapsed": false,
    "slideshow": {
     "slide_type": "fragment"
    }
   },
   "outputs": [
    {
     "name": "stdout",
     "output_type": "stream",
     "text": [
      "[[-1, 0, 1], [0, 1, 1]]\n",
      "[[1, 0, 0]]\n"
     ]
    }
   ],
   "source": [
    "poly2 = PyNormaliz.NmzCone(\"vertices\",vert_poly,\"cone\",[[1,0]])\n",
    "\n",
    "int_hull2 = PyNormaliz.NmzResult(poly2,\"IntegerHull\")\n",
    "print(PyNormaliz.NmzResult(int_hull2,\"VerticesOfPolyhedron\"))\n",
    "print(PyNormaliz.NmzResult(int_hull2,\"ExtremeRays\"))"
   ]
  }
 ],
 "metadata": {
  "celltoolbar": "Slideshow",
  "kernelspec": {
   "display_name": "Python 3",
   "language": "python",
   "name": "python3"
  },
  "language_info": {
   "codemirror_mode": {
    "name": "ipython",
    "version": 3
   },
   "file_extension": ".py",
   "mimetype": "text/x-python",
   "name": "python",
   "nbconvert_exporter": "python",
   "pygments_lexer": "ipython3",
   "version": "3.5.2"
  }
 },
 "nbformat": 4,
 "nbformat_minor": 2
}
