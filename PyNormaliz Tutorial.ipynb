{
 "cells": [
  {
   "cell_type": "markdown",
   "metadata": {
    "slideshow": {
     "slide_type": "slide"
    }
   },
   "source": [
    "# Introducing PyNormaliz \n",
    "\n",
    "(Sebastian Gutsche, Justhin Shenk, Richard Sieg)"
   ]
  },
  {
   "cell_type": "markdown",
   "metadata": {
    "slideshow": {
     "slide_type": "slide"
    }
   },
   "source": [
    "## Example 1: A cone in dimension 2\n",
    "\n",
    "We want to investigate the cone $C=\\mathbb{R}_{+}(2,1)+\\mathbb{R}_{+}(1,3)\\subset\\mathbb{R}^2$:\n",
    "\n",
    "This cone is defined in the input file 2cone.in:\n",
    "\n",
    "<pre>\n",
    "amb_space 2 \n",
    "cone 2\n",
    "1 3\n",
    "2 1\n",
    "</pre>"
   ]
  },
  {
   "cell_type": "code",
   "execution_count": null,
   "metadata": {
    "collapsed": false,
    "scrolled": false,
    "slideshow": {
     "slide_type": "fragment"
    }
   },
   "outputs": [],
   "source": [
    "import PyNormaliz\n",
    "\n",
    "generators = [[1,3],[2,1]]\n",
    "cone = PyNormaliz.NmzCone(\"cone\",generators)\n",
    "HB = PyNormaliz.NmzResult(cone,\"HilbertBasis\")\n",
    "print(HB)"
   ]
  },
  {
   "cell_type": "markdown",
   "metadata": {
    "slideshow": {
     "slide_type": "subslide"
    }
   },
   "source": [
    "We can also use inequalities:"
   ]
  },
  {
   "cell_type": "code",
   "execution_count": null,
   "metadata": {
    "collapsed": false,
    "slideshow": {
     "slide_type": "fragment"
    }
   },
   "outputs": [],
   "source": [
    "ineq = [[-1,2],[3,-1]]\n",
    "cone2 = PyNormaliz.NmzCone(\"inequalities\",ineq)\n",
    "Gen = PyNormaliz.NmzResult(cone2,\"ExtremeRays\")\n",
    "print(Gen)\n",
    "HB2 = PyNormaliz.NmzResult(cone2,\"HilbertBasis\")\n",
    "print(HB2)"
   ]
  },
  {
   "cell_type": "markdown",
   "metadata": {
    "slideshow": {
     "slide_type": "slide"
    }
   },
   "source": [
    "# Example 2: A lattice polytope\n",
    "\n",
    "Now we investigate a lattice simplex."
   ]
  },
  {
   "cell_type": "code",
   "execution_count": null,
   "metadata": {
    "collapsed": false,
    "slideshow": {
     "slide_type": "fragment"
    }
   },
   "outputs": [],
   "source": [
    "vertices = [[0,0,0],[2,0,0],[0,3,0],[0,0,5]]\n",
    "poly = PyNormaliz.NmzCone(\"polytope\",vertices)\n",
    "HB = PyNormaliz.NmzResult(poly,\"HilbertBasis\")\n",
    "print(len(HB))\n",
    "print(HB)\n",
    "print(\"\\n\")\n",
    "erhart = PyNormaliz.NmzResult(poly,\"HilbertSeries\")\n",
    "print(erhart)\n",
    "                              "
   ]
  },
  {
   "cell_type": "markdown",
   "metadata": {
    "slideshow": {
     "slide_type": "subslide"
    }
   },
   "source": [
    "Only interested in the lattice points?"
   ]
  },
  {
   "cell_type": "code",
   "execution_count": null,
   "metadata": {
    "collapsed": false,
    "slideshow": {
     "slide_type": "fragment"
    }
   },
   "outputs": [],
   "source": [
    "LP = PyNormaliz.NmzResult(poly,\"Deg1Elements\")\n",
    "print(len(LP))\n",
    "print(LP)"
   ]
  },
  {
   "cell_type": "markdown",
   "metadata": {
    "slideshow": {
     "slide_type": "slide"
    }
   },
   "source": [
    "# Example 3: A rational polytope\n",
    "\n",
    "We construct a polytope with vertices $(5/2,3/2),(-2/3,-4/3),(1/4,-7/4)$"
   ]
  },
  {
   "cell_type": "code",
   "execution_count": null,
   "metadata": {
    "collapsed": false,
    "slideshow": {
     "slide_type": "fragment"
    }
   },
   "outputs": [],
   "source": [
    "rat_vert = [[5,3,2],[-2,-4,3],[1,-7,4]]\n",
    "grad = [[0,0,1]]\n",
    "rat_poly = PyNormaliz.NmzCone(\"cone\",rat_vert,\"grading\",grad)\n",
    "HS = PyNormaliz.NmzResult(rat_poly,\"HilbertSeries\")\n",
    "print(HS)"
   ]
  },
  {
   "cell_type": "markdown",
   "metadata": {
    "slideshow": {
     "slide_type": "subslide"
    }
   },
   "source": [
    "Compute its integer hull:"
   ]
  },
  {
   "cell_type": "code",
   "execution_count": null,
   "metadata": {
    "collapsed": false,
    "slideshow": {
     "slide_type": "fragment"
    }
   },
   "outputs": [],
   "source": [
    "int_hull = PyNormaliz.NmzResult(rat_poly,\"IntegerHull\")\n",
    "print(PyNormaliz.NmzResult(int_hull,\"VerticesOfPolyhedron\"))\n",
    "print(PyNormaliz.NmzResult(int_hull,\"SupportHyperplanes\"))"
   ]
  },
  {
   "cell_type": "markdown",
   "metadata": {
    "slideshow": {
     "slide_type": "slide"
    }
   },
   "source": [
    "# Example 4: A polyhedron\n",
    "\n",
    "We define a polyhedron by inequalties:\n",
    "\\begin{align*}\n",
    "2x_2&\\geq -1 \\\\\n",
    "2x_2 &\\leq 3 \\\\\n",
    "-2x_1+2x_2&\\leq 3 \n",
    "\\end{align*}"
   ]
  },
  {
   "cell_type": "code",
   "execution_count": null,
   "metadata": {
    "collapsed": false,
    "slideshow": {
     "slide_type": "fragment"
    }
   },
   "outputs": [],
   "source": [
    "ineq2 = [[0,2,1],[0,-2,3],[2,-2,3]]\n",
    "polyhedron = PyNormaliz.NmzCone(\"inhom_inequalities\",ineq2)\n",
    "HB_rec = PyNormaliz.NmzResult(polyhedron,\"HilbertBasis\")\n",
    "print(HB_rec)\n",
    "print(\"\\n\")\n",
    "module_gen = PyNormaliz.NmzResult(polyhedron,\"ModuleGenerators\")\n",
    "print(module_gen)\n",
    "print(\"\\n\")\n",
    "vert_polyhedron = PyNormaliz.NmzResult(polyhedron,\"VerticesOfPolyhedron\")\n",
    "print(vert_polyhedron)"
   ]
  },
  {
   "cell_type": "markdown",
   "metadata": {
    "slideshow": {
     "slide_type": "fragment"
    }
   },
   "source": [
    "...or by generators"
   ]
  },
  {
   "cell_type": "code",
   "execution_count": null,
   "metadata": {
    "collapsed": true,
    "slideshow": {
     "slide_type": "fragment"
    }
   },
   "outputs": [],
   "source": [
    "polyhedron2 = PyNormaliz.NmzCone(\"vertices\",vert_polyhedron,\"cone\",[[1,0]])\n"
   ]
  },
  {
   "cell_type": "code",
   "execution_count": null,
   "metadata": {
    "collapsed": true
   },
   "outputs": [],
   "source": []
  }
 ],
 "metadata": {
  "celltoolbar": "Slideshow",
  "kernelspec": {
   "display_name": "Python 2",
   "language": "python",
   "name": "python2"
  },
  "language_info": {
   "codemirror_mode": {
    "name": "ipython",
    "version": 2
   },
   "file_extension": ".py",
   "mimetype": "text/x-python",
   "name": "python",
   "nbconvert_exporter": "python",
   "pygments_lexer": "ipython2",
   "version": "2.7.12"
  }
 },
 "nbformat": 4,
 "nbformat_minor": 2
}
