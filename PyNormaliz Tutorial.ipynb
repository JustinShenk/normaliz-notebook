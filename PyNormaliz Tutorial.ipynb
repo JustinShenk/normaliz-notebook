{
 "cells": [
  {
   "cell_type": "markdown",
   "metadata": {
    "slideshow": {
     "slide_type": "slide"
    }
   },
   "source": [
    "# Introducing PyNormaliz \n",
    "\n",
    "(Winfried Bruns, Sebastian Gutsche, Justhin Shenk, Richard Sieg)\n",
    "\n",
    "This small tutorial introduces the main syntax of the Python interface PyNormaliz for Normaliz.\n",
    "\n",
    "To install PyNormaliz on your machine, download the PyNormaliz and run \n",
    "<pre>\n",
    "python setup.py install\n",
    "</pre>\n",
    "If you are using python3 you might need to enter python3 instead of python."
   ]
  },
  {
   "cell_type": "markdown",
   "metadata": {
    "slideshow": {
     "slide_type": "slide"
    }
   },
   "source": [
    "## Example 1: A cone in dimension 2\n",
    "<img src=\"images/2cone.png\" width=\"240px\",style=\"float: right;\">\n",
    "We want to investigate the cone $C=\\mathbb{R}_{+}(2,1)+\\mathbb{R}_{+}(1,3)\\subset\\mathbb{R}^2$.\n",
    "\n",
    "In the cone constructor of PyNormaliz, we specify the input type (\"cone\") and an input matrix for this input type. \n",
    "\n",
    "To compute its Hilbert basis we use the point operator and call HilbertBasis() on our cone."
   ]
  },
  {
   "cell_type": "code",
   "execution_count": 1,
   "metadata": {
    "collapsed": false,
    "scrolled": false,
    "slideshow": {
     "slide_type": "fragment"
    }
   },
   "outputs": [
    {
     "data": {
      "text/plain": [
       "[[1, 1], [1, 2], [1, 3], [2, 1]]"
      ]
     },
     "execution_count": 1,
     "metadata": {},
     "output_type": "execute_result"
    }
   ],
   "source": [
    "from PyNormaliz import * # or import PyNormaliz\n",
    "\n",
    "gen = [[1,3],[2,1]]\n",
    "C = Cone(cone=gen)\n",
    "C.HilbertBasis()"
   ]
  },
  {
   "cell_type": "markdown",
   "metadata": {
    "slideshow": {
     "slide_type": "subslide"
    }
   },
   "source": [
    "We can also use inequalities as an input. We also check that the extreme rays of the new cone are really the generators of the previous one."
   ]
  },
  {
   "cell_type": "code",
   "execution_count": 2,
   "metadata": {
    "collapsed": false,
    "slideshow": {
     "slide_type": "fragment"
    }
   },
   "outputs": [
    {
     "name": "stdout",
     "output_type": "stream",
     "text": [
      "True\n",
      "[[1, 1], [1, 2], [1, 3], [2, 1]]\n"
     ]
    }
   ],
   "source": [
    "ineq = [[-1,2],[3,-1]]\n",
    "cone2 = Cone(inequalities=ineq)\n",
    "gen2 = cone2.ExtremeRays()\n",
    "print(gen==gen2)\n",
    "HB2 = cone2.HilbertBasis()\n",
    "print(HB2)"
   ]
  },
  {
   "cell_type": "markdown",
   "metadata": {
    "slideshow": {
     "slide_type": "slide"
    }
   },
   "source": [
    "# Example 2: A lattice polytope\n",
    "<img src=\"images/lattice_simplex.png\" width=\"300px\",style=\"float: right;\">\n",
    "Now we investigate a lattice simplex, which is not normal/integrally closed.\n",
    "\n",
    "The inpute type is \"polytope\". Note that we do not need a homogenizing variable but really specify the points in their actual dimension.\n",
    "\n",
    "We compute its Hilbert series and Ehrhart polynomial, which are:\n",
    "\n",
    "Hilbert series: $H(t)=\\frac{1+14t+15t^2}{(1-t)^4}$\n",
    "\n",
    "Ehrhart polynomial: $p(k)=1+4k+8k^2+5k^3$\n"
   ]
  },
  {
   "cell_type": "code",
   "execution_count": 3,
   "metadata": {
    "collapsed": false,
    "slideshow": {
     "slide_type": "fragment"
    }
   },
   "outputs": [
    {
     "name": "stdout",
     "output_type": "stream",
     "text": [
      "19\n",
      "False\n",
      "[[1, 14, 15], [1, 1, 1, 1], 0]\n",
      "[[1, 4, 8, 5], 1]\n"
     ]
    }
   ],
   "source": [
    "vertices = [[0,0,0],[2,0,0],[0,3,0],[0,0,5]]\n",
    "poly = Cone(polytope=vertices)\n",
    "HB = poly.HilbertBasis()\n",
    "print(len(HB))\n",
    "print(poly.IsDeg1HilbertBasis())\n",
    "print(poly.HilbertSeries()) \n",
    "print(poly.HilbertQuasiPolynomial())"
   ]
  },
  {
   "cell_type": "markdown",
   "metadata": {
    "slideshow": {
     "slide_type": "subslide"
    }
   },
   "source": [
    "If we are only interested in the lattic points, we compute them via the command Deg1Elements. Note that the output now has the homogenizing variable as last coordinate."
   ]
  },
  {
   "cell_type": "code",
   "execution_count": 4,
   "metadata": {
    "collapsed": false,
    "slideshow": {
     "slide_type": "fragment"
    }
   },
   "outputs": [
    {
     "name": "stdout",
     "output_type": "stream",
     "text": [
      "18\n",
      "[[0, 0, 0, 1], [0, 0, 1, 1], [0, 0, 2, 1], [0, 0, 3, 1], [0, 0, 4, 1], [0, 0, 5, 1], [0, 1, 0, 1], [0, 1, 1, 1], [0, 1, 2, 1], [0, 1, 3, 1], [0, 2, 0, 1], [0, 2, 1, 1], [0, 3, 0, 1], [1, 0, 0, 1], [1, 0, 1, 1], [1, 0, 2, 1], [1, 1, 0, 1], [2, 0, 0, 1]]\n"
     ]
    }
   ],
   "source": [
    "LP = poly.Deg1Elements()\n",
    "print(len(LP))\n",
    "print(LP)"
   ]
  },
  {
   "cell_type": "markdown",
   "metadata": {
    "slideshow": {
     "slide_type": "slide"
    }
   },
   "source": [
    "# Example 3: A rational polytope\n",
    "\n",
    "<img src=\"images/rat_poly.png\" width=\"290px\",style=\"float: right;\">\n",
    "We construct a polytope with vertices $(5/2,3/2),(-2/3,-4/3),(1/4,-7/4)$.\n",
    "\n",
    "This is the first time we enter two different and compatible input types into the constructor. With the grading we declare the last coordinate to be the denominator of the vertices.\n"
   ]
  },
  {
   "cell_type": "code",
   "execution_count": 5,
   "metadata": {
    "collapsed": false,
    "slideshow": {
     "slide_type": "fragment"
    }
   },
   "outputs": [
    {
     "name": "stdout",
     "output_type": "stream",
     "text": [
      "[[1, 1, 4, 4, 5, 2, 4, 6, 3, 2, 6, 4, 2, 3], [1, 1, 12], 0]\n",
      "[[24, 6, 47], [19, 6, 47], [16, 6, 47], [15, 6, 47], [40, 6, 47], [19, 6, 47], [0, 6, 47], [31, 6, 47], [40, 6, 47], [3, 6, 47], [16, 6, 47], [31, 6, 47], 24]\n"
     ]
    }
   ],
   "source": [
    "rat_vert = [[5,3,2],[-2,-4,3],[1,-7,4]]\n",
    "g = [[0,0,1]]\n",
    "rat_poly = Cone(cone=rat_vert,grading=g)\n",
    "print(rat_poly.HilbertSeries())\n",
    "print(rat_poly.HilbertQuasiPolynomial())"
   ]
  },
  {
   "cell_type": "markdown",
   "metadata": {
    "slideshow": {
     "slide_type": "subslide"
    }
   },
   "source": [
    "<img src=\"images/rat_poly_it.png\" width=\"290px\",style=\"float: right;\">\n",
    "We compute the integer hull of this polytope which is again a cone object and thus we can access its vertices of support hyperplanes."
   ]
  },
  {
   "cell_type": "code",
   "execution_count": 6,
   "metadata": {
    "collapsed": false,
    "slideshow": {
     "slide_type": "fragment"
    }
   },
   "outputs": [
    {
     "ename": "AttributeError",
     "evalue": "'PyCapsule' object has no attribute 'VerticesOfPolyhedron'",
     "output_type": "error",
     "traceback": [
      "\u001b[0;31m---------------------------------------------------------------------------\u001b[0m",
      "\u001b[0;31mAttributeError\u001b[0m                            Traceback (most recent call last)",
      "\u001b[0;32m<ipython-input-6-48bb031fba56>\u001b[0m in \u001b[0;36m<module>\u001b[0;34m()\u001b[0m\n\u001b[1;32m      1\u001b[0m \u001b[0mint_hull\u001b[0m \u001b[0;34m=\u001b[0m \u001b[0mrat_poly\u001b[0m\u001b[0;34m.\u001b[0m\u001b[0mIntegerHull\u001b[0m\u001b[0;34m(\u001b[0m\u001b[0;34m)\u001b[0m\u001b[0;34m\u001b[0m\u001b[0m\n\u001b[0;32m----> 2\u001b[0;31m \u001b[0mprint\u001b[0m\u001b[0;34m(\u001b[0m\u001b[0mint_hull\u001b[0m\u001b[0;34m.\u001b[0m\u001b[0mVerticesOfPolyhedron\u001b[0m\u001b[0;34m(\u001b[0m\u001b[0;34m)\u001b[0m\u001b[0;34m)\u001b[0m\u001b[0;34m\u001b[0m\u001b[0m\n\u001b[0m\u001b[1;32m      3\u001b[0m \u001b[0mprint\u001b[0m\u001b[0;34m(\u001b[0m\u001b[0mint_hull\u001b[0m\u001b[0;34m.\u001b[0m\u001b[0mSupportHyperplanes\u001b[0m\u001b[0;34m(\u001b[0m\u001b[0;34m)\u001b[0m\u001b[0;34m)\u001b[0m\u001b[0;34m\u001b[0m\u001b[0m\n",
      "\u001b[0;31mAttributeError\u001b[0m: 'PyCapsule' object has no attribute 'VerticesOfPolyhedron'"
     ]
    }
   ],
   "source": [
    "int_hull = rat_poly.IntegerHull()\n",
    "print(int_hull.VerticesOfPolyhedron())\n",
    "print(int_hull.SupportHyperplanes())"
   ]
  },
  {
   "cell_type": "markdown",
   "metadata": {
    "slideshow": {
     "slide_type": "slide"
    }
   },
   "source": [
    "# Example 4: A polyhedron\n",
    "\n",
    "We define a polyhedron by inequalties:\n",
    "<img src=\"images/polyhedron.png\" width=\"350px\",style=\"float: right;\">\n",
    "\\begin{align*}\n",
    "2x_2&\\geq -1 \\\\\n",
    "2x_2 &\\leq 3 \\\\\n",
    "-2x_1+2x_2&\\leq 3 \n",
    "\\end{align*}\n",
    "\n",
    "The input type is \"inhom_inequalities\" where a row $(a_1,\\ldots,a_n,b)$ in the input matrix defines the inequality\n",
    "\n",
    "\\begin{equation*}a_1x_1 +\\dots+a_nx_n+b\\geq0.\\end{equation*}\n",
    "\n",
    "In this case, HilbertBasis() returns the Hilbert basis of the recession cone associated to the polyhedron.\n"
   ]
  },
  {
   "cell_type": "code",
   "execution_count": null,
   "metadata": {
    "collapsed": false,
    "slideshow": {
     "slide_type": "fragment"
    }
   },
   "outputs": [],
   "source": [
    "ineq2 = [[0,2,1],[0,-2,3],[2,-2,3]]\n",
    "polyhedron = Cone(inhom_inequalities=ineq2)\n",
    "HB_rec = polyhedron.HilbertBasis()\n",
    "print(HB_rec)\n",
    "\n",
    "module_gen = polyhedron.ModuleGenerators()\n",
    "print(module_gen)\n",
    "\n",
    "vert_poly = polyhedron.VerticesOfPolyhedron()\n",
    "print(vert_poly)"
   ]
  },
  {
   "cell_type": "markdown",
   "metadata": {
    "slideshow": {
     "slide_type": "subslide"
    }
   },
   "source": [
    "We can also define the polyhedron via its generators, i.e. its vertices and generators of its recession cone.\n",
    "<img src=\"images/polyhedron_int_hull.png\" width=\"380px\",style=\"float: right;\">"
   ]
  },
  {
   "cell_type": "code",
   "execution_count": null,
   "metadata": {
    "collapsed": false,
    "slideshow": {
     "slide_type": "fragment"
    }
   },
   "outputs": [],
   "source": [
    "poly2 = Cone(vertices=vert_poly,cone=[[1,0]])\n",
    "\n",
    "int_hull2 = poly2.IntegerHull()\n",
    "print(int_hull2.VerticesOfPolyhedron())\n",
    "print(int_hull2.ExtremeRays())"
   ]
  },
  {
   "cell_type": "markdown",
   "metadata": {
    "collapsed": true,
    "slideshow": {
     "slide_type": "slide"
    }
   },
   "source": [
    "# Creating new functions\n",
    "As an example for the usefulness of PyNormaliz we write a small function that creates the intersection of two cones - something which would be quite messy if we work with input files."
   ]
  },
  {
   "cell_type": "code",
   "execution_count": null,
   "metadata": {
    "collapsed": false,
    "slideshow": {
     "slide_type": "fragment"
    }
   },
   "outputs": [],
   "source": [
    "def intersection(cone1, cone2):\n",
    "    intersection_ineq = cone1.SupportHyperplanes()+cone2.SupportHyperplanes()\n",
    "    C = Cone(inequalities = intersection_ineq)\n",
    "    return C\n",
    "\n",
    "C1 = Cone(cone=[[1,2],[2,1]])\n",
    "C2 = Cone(cone=[[1,1],[1,3]])\n",
    "print(intersection(C1,C2).ExtremeRays())"
   ]
  },
  {
   "cell_type": "code",
   "execution_count": null,
   "metadata": {
    "collapsed": true
   },
   "outputs": [],
   "source": []
  }
 ],
 "metadata": {
  "celltoolbar": "Slideshow",
  "kernelspec": {
   "display_name": "Python 3",
   "language": "python",
   "name": "python3"
  },
  "language_info": {
   "codemirror_mode": {
    "name": "ipython",
    "version": 3
   },
   "file_extension": ".py",
   "mimetype": "text/x-python",
   "name": "python",
   "nbconvert_exporter": "python",
   "pygments_lexer": "ipython3",
   "version": "3.5.2"
  }
 },
 "nbformat": 4,
 "nbformat_minor": 2
}
